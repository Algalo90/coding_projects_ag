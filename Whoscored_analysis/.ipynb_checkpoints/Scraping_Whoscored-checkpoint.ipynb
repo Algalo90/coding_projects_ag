{
 "cells": [
  {
   "cell_type": "code",
   "execution_count": 9,
   "metadata": {},
   "outputs": [],
   "source": [
    "import selenium as sl\n",
    "from selenium import webdriver\n",
    "import bs4\n",
    "from bs4 import BeautifulSoup as bs\n",
    "import pandas as pd\n",
    "import numpy as np\n",
    "from datetime import datetime\n"
   ]
  },
  {
   "cell_type": "code",
   "execution_count": 14,
   "metadata": {},
   "outputs": [],
   "source": [
    "MatchResults = pd.DataFrame(columns=['Date', 'HomeTeam', 'AwayTeam', 'HomeTeamGoals','AwayTeamGoals'])\n"
   ]
  },
  {
   "cell_type": "code",
   "execution_count": 73,
   "metadata": {},
   "outputs": [],
   "source": [
    "class Links(object):\n",
    "    def __init__(self, main = None, driver = None): \n",
    "        self.main = main\n",
    "        self.driver = webdriver.Chrome(executable_path = driver)\n",
    "    \n",
    "class WhoScored_link(Links):\n",
    "    def __init__(self, main= None, driver = None, leagues = None, game_links = None):\n",
    "        super().__init__(main, driver)        \n",
    "        self.leagues = leagues\n",
    "        self.game_links = game_links\n",
    "        \n",
    "    def getLeagues(self):\n",
    "        self.driver.get(self.main)\n",
    "        content = self.driver.page_source\n",
    "        soup = bs(content, features='lxml')\n",
    "        links = soup.findAll('li',{'class':'hover-target'})\n",
    "        for link in links:\n",
    "            self.leagues.append(self.main + link.find('a')['href'])\n",
    "        return self.leagues\n",
    "    \n",
    "    def getMatches(self, league: int):\n",
    "        if not self.leagues:\n",
    "            print('You need to load the links of the leagues first')\n",
    "        else:\n",
    "            #self.driver.get(self.leagues[league])\n",
    "            print(self.leagues[league])\n",
    "            self.driver.get(self.leagues[league])\n",
    "            #sleep(10)\n",
    "            content = self.driver.page_source\n",
    "            soup = bs(content, features = 'lxml')\n",
    "            line = soup.findAll('tr', {'class': 'item '})\n",
    "            \n",
    "            with open(\"output1.html\", \"w\") as file:\n",
    "                file.write(str(soup))\n",
    "      \n",
    "        \n",
    "            \n",
    "            \n",
    "        \n",
    "        \n",
    "driver_path = 'chromedriver.exe'  "
   ]
  },
  {
   "cell_type": "code",
   "execution_count": 74,
   "metadata": {},
   "outputs": [],
   "source": [
    "whoscored = WhoScored_link(main='http://whoscored.com', driver = driver_path, leagues = [], game_links = [])"
   ]
  },
  {
   "cell_type": "code",
   "execution_count": 75,
   "metadata": {},
   "outputs": [
    {
     "data": {
      "text/plain": [
       "['http://whoscored.com/Regions/252/Tournaments/2/England-Premier-League',\n",
       " 'http://whoscored.com/Regions/108/Tournaments/5/Italy-Serie-A',\n",
       " 'http://whoscored.com/Regions/206/Tournaments/4/Spain-LaLiga',\n",
       " 'http://whoscored.com/Regions/81/Tournaments/3/Germany-Bundesliga',\n",
       " 'http://whoscored.com/Regions/74/Tournaments/22/France-Ligue-1',\n",
       " 'http://whoscored.com/Regions/177/Tournaments/21/Portugal-Liga-NOS',\n",
       " 'http://whoscored.com/Regions/155/Tournaments/13/Netherlands-Eredivisie',\n",
       " 'http://whoscored.com/Regions/182/Tournaments/77/Russia-Premier-League',\n",
       " 'http://whoscored.com/Regions/31/Tournaments/95/Brazil-Brasileirão',\n",
       " 'http://whoscored.com/Regions/233/Tournaments/85/USA-Major-League-Soccer',\n",
       " 'http://whoscored.com/Regions/225/Tournaments/17/Turkey-Super-Lig',\n",
       " 'http://whoscored.com/Regions/252/Tournaments/7/England-Championship',\n",
       " 'http://whoscored.com/Regions/252/Tournaments/8/England-League-One',\n",
       " 'http://whoscored.com/Regions/252/Tournaments/9/England-League-Two',\n",
       " 'http://whoscored.com/Regions/11/Tournaments/68/Argentina-Superliga',\n",
       " 'http://whoscored.com/Regions/45/Tournaments/162/China-Super-league',\n",
       " 'http://whoscored.com/Regions/81/Tournaments/6/Germany-Bundesliga-II',\n",
       " 'http://whoscored.com/Regions/250/Tournaments/12/Europe-Champions-League',\n",
       " 'http://whoscored.com/Regions/250/Tournaments/30/Europe-Europa-League']"
      ]
     },
     "execution_count": 75,
     "metadata": {},
     "output_type": "execute_result"
    }
   ],
   "source": [
    "whoscored.getLeagues()"
   ]
  },
  {
   "cell_type": "code",
   "execution_count": 76,
   "metadata": {},
   "outputs": [
    {
     "name": "stdout",
     "output_type": "stream",
     "text": [
      "http://whoscored.com/Regions/252/Tournaments/2/England-Premier-League\n"
     ]
    }
   ],
   "source": [
    "whoscored.getMatches(0)"
   ]
  },
  {
   "cell_type": "code",
   "execution_count": null,
   "metadata": {},
   "outputs": [],
   "source": []
  }
 ],
 "metadata": {
  "kernelspec": {
   "display_name": "Python 3",
   "language": "python",
   "name": "python3"
  },
  "language_info": {
   "codemirror_mode": {
    "name": "ipython",
    "version": 3
   },
   "file_extension": ".py",
   "mimetype": "text/x-python",
   "name": "python",
   "nbconvert_exporter": "python",
   "pygments_lexer": "ipython3",
   "version": "3.7.6"
  }
 },
 "nbformat": 4,
 "nbformat_minor": 4
}
