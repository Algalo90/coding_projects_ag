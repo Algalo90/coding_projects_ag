{
 "cells": [
  {
   "cell_type": "code",
   "execution_count": 2,
   "metadata": {},
   "outputs": [],
   "source": [
    "import selenium as sl\n",
    "from selenium import webdriver\n",
    "import bs4\n",
    "from bs4 import BeautifulSoup as bs\n"
   ]
  },
  {
   "cell_type": "code",
   "execution_count": 9,
   "metadata": {},
   "outputs": [],
   "source": [
    "class Links(object):\n",
    "    def __init__(self, main = None, driver = None): \n",
    "        self.main = main\n",
    "        self.driver = webdriver.Chrome(executable_path = driver)\n",
    "    \n",
    "class WhoScored_link(Links):\n",
    "    def __init__(self, main= None, driver = None, league = None, game_links = None):\n",
    "        super().__init__(main, driver)        \n",
    "        self.league = league\n",
    "        self.game_links = game_links\n",
    "        \n",
    "    def getLeagues(self):\n",
    "        self.driver.get(self.main)\n",
    "        content = self.driver.page_source\n",
    "        soup = bs(content, features='lxml')\n",
    "        links = soup.findAll('li',{'class':'hover-target'})\n",
    "        for link in links:\n",
    "            self.league.append(self.main + link.find('a')['href'])\n",
    "        return self.league\n",
    "    \n",
    "    def getMatches(self):\n",
    "        pass\n",
    "        \n",
    "        \n",
    "driver_path = 'chromedriver.exe'  "
   ]
  },
  {
   "cell_type": "code",
   "execution_count": 10,
   "metadata": {},
   "outputs": [],
   "source": [
    "whoscored = WhoScored_link(main='http://whoscored.com', driver = driver_path, league = [], game_links = [])"
   ]
  },
  {
   "cell_type": "code",
   "execution_count": 11,
   "metadata": {},
   "outputs": [
    {
     "data": {
      "text/plain": [
       "['http://whoscored.com/Regions/252/Tournaments/2/England-Premier-League',\n",
       " 'http://whoscored.com/Regions/108/Tournaments/5/Italy-Serie-A',\n",
       " 'http://whoscored.com/Regions/206/Tournaments/4/Spain-LaLiga',\n",
       " 'http://whoscored.com/Regions/81/Tournaments/3/Germany-Bundesliga',\n",
       " 'http://whoscored.com/Regions/74/Tournaments/22/France-Ligue-1',\n",
       " 'http://whoscored.com/Regions/177/Tournaments/21/Portugal-Liga-NOS',\n",
       " 'http://whoscored.com/Regions/155/Tournaments/13/Netherlands-Eredivisie',\n",
       " 'http://whoscored.com/Regions/182/Tournaments/77/Russia-Premier-League',\n",
       " 'http://whoscored.com/Regions/31/Tournaments/95/Brazil-Brasileirão',\n",
       " 'http://whoscored.com/Regions/233/Tournaments/85/USA-Major-League-Soccer',\n",
       " 'http://whoscored.com/Regions/225/Tournaments/17/Turkey-Super-Lig',\n",
       " 'http://whoscored.com/Regions/252/Tournaments/7/England-Championship',\n",
       " 'http://whoscored.com/Regions/252/Tournaments/8/England-League-One',\n",
       " 'http://whoscored.com/Regions/252/Tournaments/9/England-League-Two',\n",
       " 'http://whoscored.com/Regions/11/Tournaments/68/Argentina-Superliga',\n",
       " 'http://whoscored.com/Regions/45/Tournaments/162/China-Super-league',\n",
       " 'http://whoscored.com/Regions/81/Tournaments/6/Germany-Bundesliga-II',\n",
       " 'http://whoscored.com/Regions/250/Tournaments/12/Europe-Champions-League',\n",
       " 'http://whoscored.com/Regions/250/Tournaments/30/Europe-Europa-League']"
      ]
     },
     "execution_count": 11,
     "metadata": {},
     "output_type": "execute_result"
    }
   ],
   "source": [
    "whoscored.getLeagues()"
   ]
  },
  {
   "cell_type": "code",
   "execution_count": null,
   "metadata": {},
   "outputs": [],
   "source": []
  },
  {
   "cell_type": "code",
   "execution_count": null,
   "metadata": {},
   "outputs": [],
   "source": []
  }
 ],
 "metadata": {
  "kernelspec": {
   "display_name": "Python 3",
   "language": "python",
   "name": "python3"
  },
  "language_info": {
   "codemirror_mode": {
    "name": "ipython",
    "version": 3
   },
   "file_extension": ".py",
   "mimetype": "text/x-python",
   "name": "python",
   "nbconvert_exporter": "python",
   "pygments_lexer": "ipython3",
   "version": "3.7.6"
  }
 },
 "nbformat": 4,
 "nbformat_minor": 4
}
