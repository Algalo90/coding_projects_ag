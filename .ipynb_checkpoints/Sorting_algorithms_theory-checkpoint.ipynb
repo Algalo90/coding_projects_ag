{
 "cells": [
  {
   "cell_type": "markdown",
   "metadata": {},
   "source": [
    "### Sorting algorithms:\n",
    "\n",
    "Functions that take an unsorted array of numbers and return an array of equal length and values but following some sort of order.\n",
    "\n",
    "The time complexity of such algorithms will be expressed in terms of big O notation:\n",
    "\n",
    "![title](big_o.jpeg)\n",
    "\n",
    "- Stable vs unstable algorithms: Stable ones will leave equal elements in the same order they where in the input array\n",
    "\n",
    "- The algorithms:\n",
    "    - Simpler but less time-efficient:\n",
    "        - Bubble sort\n",
    "        - Selection sort\n",
    "        - Insertion sort\n",
    "    - More complicated to understand and implement but faster:\n",
    "        - Merge sort\n",
    "        - Quicksort\n",
    "        - Heap Sort\n",
    "        \n",
    "        \n",
    "    \n",
    "Source: https://medium.com/jl-codes/understanding-sorting-algorithms-af6222995c8"
   ]
  },
  {
   "cell_type": "markdown",
   "metadata": {},
   "source": [
    "#### Bubble Sort:\n",
    "\n",
    "Cycles through the array looking at each pair of numbers. Places the lower on the left and the higher on the right. \n",
    "- Slow algorithm: Worst case scenario O(n<sup>2</sup>)\n",
    "- Not used nowadays, only for arrays that are half-way sorted\n",
    "- In-place algorithm, it does not take much extra memory space.\n",
    "- As with every outer loop, the inner loop ends closer to the beginning of the array, the higher numbers get placed first."
   ]
  },
  {
   "cell_type": "code",
   "execution_count": 18,
   "metadata": {},
   "outputs": [],
   "source": [
    "# Bubble sort implementation in Python 3:\n",
    "\n",
    "def BubbleSort(arr):\n",
    "    n = len(arr)\n",
    "    \n",
    "    for i in range(n-1): #also works with range(n) but does an extra loop\n",
    "        for j in range(n-i-1):\n",
    "            # print(i, arr[i],j, arr[j], arr[j+1]) # for checks only\n",
    "            if arr[j]>arr[j+1]:\n",
    "                arr[j], arr[j+1] = arr[j+1], arr[j]\n",
    "    return arr\n",
    "\n",
    "arr = [64, 34, 25, 12, 22,11, 90] \n",
    "\n",
    "\n",
    "\n"
   ]
  },
  {
   "cell_type": "code",
   "execution_count": 17,
   "metadata": {},
   "outputs": [
    {
     "data": {
      "text/plain": [
       "[11, 12, 22, 25, 34, 64, 90]"
      ]
     },
     "execution_count": 17,
     "metadata": {},
     "output_type": "execute_result"
    }
   ],
   "source": [
    "BubbleSort(arr)"
   ]
  },
  {
   "cell_type": "markdown",
   "metadata": {},
   "source": [
    "#### Selection Sort:\n",
    "\n",
    "Selection sort splits the input array between two parts. The sorted part (an array of numbers being built from smallest to largest), and the remainder numbers, that have yet to be sorted. At the beginning of the loop, the sorted part will be empty and the unsorted will be the entire input list.\n",
    "\n",
    "Selection sort finds the smallest element in the unsorted list and places it at the end of the sorted list.\n",
    "At any given time, the smallest element of the unsorted list is the next largest element of the sorted list.\n",
    "\n",
    "- Again, is a not very effective way of sorting large arrays. O(n<sup>2</sup>)\n",
    "- Slightly outperforms bubble sort, but still nothing to write home about.\n",
    "- In-place algorithm\n"
   ]
  },
  {
   "cell_type": "code",
   "execution_count": 22,
   "metadata": {},
   "outputs": [],
   "source": [
    "# Selection sort implementation in Python 3:\n",
    "\n",
    "def SelectionSort(arr):\n",
    "    n = len(arr)\n",
    "    \n",
    "    for i in range(n-1):\n",
    "        min_idx = i\n",
    "        for j in range(i+1,n-1):\n",
    "            # print(i, arr[i],j, arr[j], arr[j+1]) # for checks onl            \n",
    "            if arr[j] < arr[min_idx]:\n",
    "                min_idx = j\n",
    "        arr[i], arr[min_idx] = arr[min_idx], arr[i]\n",
    "    return arr\n"
   ]
  },
  {
   "cell_type": "code",
   "execution_count": 23,
   "metadata": {},
   "outputs": [
    {
     "data": {
      "text/plain": [
       "[11, 12, 22, 25, 34, 64, 90]"
      ]
     },
     "execution_count": 23,
     "metadata": {},
     "output_type": "execute_result"
    }
   ],
   "source": [
    "SelectionSort(arr)"
   ]
  },
  {
   "cell_type": "markdown",
   "metadata": {},
   "source": [
    "#### Insertion Sort:\n",
    "\n",
    "Insertion sort also works with two sub-arrays, the sorted one and the unsorted one. The algorithm takes one element from the unsorted array at a time and iterates over the sorted array to check where the new element should be inserted.\n",
    "\n",
    "- It is also a not very efficient algorithm: O(n<sup>2</sup>)\n",
    "- Compared to the other two simple sorting algorithms (Bubble and Selection) has some strengths:\n",
    "    - Adaptive: efficiently sorts data that is already generally sorted\n",
    "    - Stable: does not change the order of ‘like’ elements in the array\n",
    "    - Online: can sort the array as it receives new items\n",
    "    - In-place: requires a consistent, small amount of memory to run\n",
    "    - Simple Implementation: not a lot of code needed for the algorithm\n",
    "\n"
   ]
  },
  {
   "cell_type": "code",
   "execution_count": 1,
   "metadata": {},
   "outputs": [],
   "source": [
    "# Insertion sort implementation in Python 3:\n",
    "\n",
    "def InsertionSort(arr):\n",
    "    \n",
    "    n = len(arr)\n",
    "    \n",
    "    for i in range(1, n):\n",
    "        current_val = arr[i]\n",
    "        current_pos = i\n",
    "        \n",
    "        while current_pos > 0 and arr[current_pos -1] > current_val:\n",
    "            arr[current_pos] = arr[current_pos - 1]\n",
    "            current_pos = current_pos -1\n",
    "        arr[current_pos] = current_val\n",
    "    return arr"
   ]
  },
  {
   "cell_type": "markdown",
   "metadata": {},
   "source": [
    "#### Merge Sort:\n",
    "\n",
    "Divide and conquer algorithm. Divides the initial array into two halves that will also be recursively halved until only pairs are left. Once pairs are left, it orders the pair and merges the pair with its next pair in a sorted fashion.\n",
    "\n",
    "- Time complexity: O(n log n)\n",
    "- Stable\n",
    "- Not InPlace\n",
    "\n"
   ]
  },
  {
   "cell_type": "code",
   "execution_count": 19,
   "metadata": {},
   "outputs": [],
   "source": [
    "# MergeSort implementation in Python 3:\n",
    "\n",
    "def MergeSort(arr):\n",
    "    n = len(arr)\n",
    "    \n",
    "    if n > 1:\n",
    "        midpoint = n // 2\n",
    "        left_arr = arr[:midpoint]\n",
    "        right_arr = arr[midpoint:]\n",
    "\n",
    "        MergeSort(left_arr)       \n",
    "\n",
    "        MergeSort(right_arr)\n",
    "        \n",
    "        i = j = k = 0\n",
    "    \n",
    "        while i < len(left_arr) and j < len(right_arr):\n",
    "            if left_arr[i] < right_arr[j]:\n",
    "                arr[k] = left_arr[i]\n",
    "            else:\n",
    "                arr[k] = right_arr[j]\n",
    "            k += 1\n",
    "        \n",
    "        while i < len(left_arr):\n",
    "            arr[k] = left_arr[i]\n",
    "            i += 1\n",
    "            k += 1\n",
    "            \n",
    "        while j < len(right_arr):\n",
    "            arr[k] = right_arr[j]\n",
    "            j += 1\n",
    "            k += 1\n",
    "        \n",
    "    \n",
    "        \n",
    "     \n",
    "        \n",
    "        "
   ]
  },
  {
   "cell_type": "code",
   "execution_count": 20,
   "metadata": {},
   "outputs": [
    {
     "ename": "IndexError",
     "evalue": "list assignment index out of range",
     "output_type": "error",
     "traceback": [
      "\u001b[1;31m---------------------------------------------------------------------------\u001b[0m",
      "\u001b[1;31mIndexError\u001b[0m                                Traceback (most recent call last)",
      "\u001b[1;32m<ipython-input-20-28f953f0a450>\u001b[0m in \u001b[0;36m<module>\u001b[1;34m\u001b[0m\n\u001b[1;32m----> 1\u001b[1;33m \u001b[0mMergeSort\u001b[0m\u001b[1;33m(\u001b[0m\u001b[0marr\u001b[0m\u001b[1;33m)\u001b[0m\u001b[1;33m\u001b[0m\u001b[1;33m\u001b[0m\u001b[0m\n\u001b[0m",
      "\u001b[1;32m<ipython-input-19-d5e223f3edd3>\u001b[0m in \u001b[0;36mMergeSort\u001b[1;34m(arr)\u001b[0m\n\u001b[0;32m      9\u001b[0m         \u001b[0mright_arr\u001b[0m \u001b[1;33m=\u001b[0m \u001b[0marr\u001b[0m\u001b[1;33m[\u001b[0m\u001b[0mmidpoint\u001b[0m\u001b[1;33m:\u001b[0m\u001b[1;33m]\u001b[0m\u001b[1;33m\u001b[0m\u001b[1;33m\u001b[0m\u001b[0m\n\u001b[0;32m     10\u001b[0m \u001b[1;33m\u001b[0m\u001b[0m\n\u001b[1;32m---> 11\u001b[1;33m         \u001b[0mMergeSort\u001b[0m\u001b[1;33m(\u001b[0m\u001b[0mleft_arr\u001b[0m\u001b[1;33m)\u001b[0m\u001b[1;33m\u001b[0m\u001b[1;33m\u001b[0m\u001b[0m\n\u001b[0m\u001b[0;32m     12\u001b[0m \u001b[1;33m\u001b[0m\u001b[0m\n\u001b[0;32m     13\u001b[0m         \u001b[0mMergeSort\u001b[0m\u001b[1;33m(\u001b[0m\u001b[0mright_arr\u001b[0m\u001b[1;33m)\u001b[0m\u001b[1;33m\u001b[0m\u001b[1;33m\u001b[0m\u001b[0m\n",
      "\u001b[1;32m<ipython-input-19-d5e223f3edd3>\u001b[0m in \u001b[0;36mMergeSort\u001b[1;34m(arr)\u001b[0m\n\u001b[0;32m     11\u001b[0m         \u001b[0mMergeSort\u001b[0m\u001b[1;33m(\u001b[0m\u001b[0mleft_arr\u001b[0m\u001b[1;33m)\u001b[0m\u001b[1;33m\u001b[0m\u001b[1;33m\u001b[0m\u001b[0m\n\u001b[0;32m     12\u001b[0m \u001b[1;33m\u001b[0m\u001b[0m\n\u001b[1;32m---> 13\u001b[1;33m         \u001b[0mMergeSort\u001b[0m\u001b[1;33m(\u001b[0m\u001b[0mright_arr\u001b[0m\u001b[1;33m)\u001b[0m\u001b[1;33m\u001b[0m\u001b[1;33m\u001b[0m\u001b[0m\n\u001b[0m\u001b[0;32m     14\u001b[0m \u001b[1;33m\u001b[0m\u001b[0m\n\u001b[0;32m     15\u001b[0m         \u001b[0mi\u001b[0m \u001b[1;33m=\u001b[0m \u001b[0mj\u001b[0m \u001b[1;33m=\u001b[0m \u001b[0mk\u001b[0m \u001b[1;33m=\u001b[0m \u001b[1;36m0\u001b[0m\u001b[1;33m\u001b[0m\u001b[1;33m\u001b[0m\u001b[0m\n",
      "\u001b[1;32m<ipython-input-19-d5e223f3edd3>\u001b[0m in \u001b[0;36mMergeSort\u001b[1;34m(arr)\u001b[0m\n\u001b[0;32m     19\u001b[0m                 \u001b[0marr\u001b[0m\u001b[1;33m[\u001b[0m\u001b[0mk\u001b[0m\u001b[1;33m]\u001b[0m \u001b[1;33m=\u001b[0m \u001b[0mleft_arr\u001b[0m\u001b[1;33m[\u001b[0m\u001b[0mi\u001b[0m\u001b[1;33m]\u001b[0m\u001b[1;33m\u001b[0m\u001b[1;33m\u001b[0m\u001b[0m\n\u001b[0;32m     20\u001b[0m             \u001b[1;32melse\u001b[0m\u001b[1;33m:\u001b[0m\u001b[1;33m\u001b[0m\u001b[1;33m\u001b[0m\u001b[0m\n\u001b[1;32m---> 21\u001b[1;33m                 \u001b[0marr\u001b[0m\u001b[1;33m[\u001b[0m\u001b[0mk\u001b[0m\u001b[1;33m]\u001b[0m \u001b[1;33m=\u001b[0m \u001b[0mright_arr\u001b[0m\u001b[1;33m[\u001b[0m\u001b[0mj\u001b[0m\u001b[1;33m]\u001b[0m\u001b[1;33m\u001b[0m\u001b[1;33m\u001b[0m\u001b[0m\n\u001b[0m\u001b[0;32m     22\u001b[0m             \u001b[0mk\u001b[0m \u001b[1;33m+=\u001b[0m \u001b[1;36m1\u001b[0m\u001b[1;33m\u001b[0m\u001b[1;33m\u001b[0m\u001b[0m\n\u001b[0;32m     23\u001b[0m \u001b[1;33m\u001b[0m\u001b[0m\n",
      "\u001b[1;31mIndexError\u001b[0m: list assignment index out of range"
     ]
    }
   ],
   "source": [
    "MergeSort(arr)"
   ]
  },
  {
   "cell_type": "code",
   "execution_count": 21,
   "metadata": {},
   "outputs": [],
   "source": [
    "def mergeSort(arr): \n",
    "    if len(arr) >1: \n",
    "        mid = len(arr)//2 #Finding the mid of the array \n",
    "        L = arr[:mid] # Dividing the array elements  \n",
    "        R = arr[mid:] # into 2 halves \n",
    "  \n",
    "        mergeSort(L) # Sorting the first half \n",
    "        mergeSort(R) # Sorting the second half \n",
    "  \n",
    "        i = j = k = 0\n",
    "          \n",
    "        # Copy data to temp arrays L[] and R[] \n",
    "        while i < len(L) and j < len(R): \n",
    "            if L[i] < R[j]: \n",
    "                arr[k] = L[i] \n",
    "                i+=1\n",
    "            else: \n",
    "                arr[k] = R[j] \n",
    "                j+=1\n",
    "            k+=1\n",
    "          \n",
    "        # Checking if any element was left \n",
    "        while i < len(L): \n",
    "            arr[k] = L[i] \n",
    "            i+=1\n",
    "            k+=1\n",
    "          \n",
    "        while j < len(R): \n",
    "            arr[k] = R[j] \n",
    "            j+=1\n",
    "            k+=1"
   ]
  },
  {
   "cell_type": "code",
   "execution_count": 22,
   "metadata": {},
   "outputs": [],
   "source": [
    "mergeSort(arr)"
   ]
  },
  {
   "cell_type": "code",
   "execution_count": null,
   "metadata": {},
   "outputs": [],
   "source": []
  }
 ],
 "metadata": {
  "kernelspec": {
   "display_name": "Python 3",
   "language": "python",
   "name": "python3"
  },
  "language_info": {
   "codemirror_mode": {
    "name": "ipython",
    "version": 3
   },
   "file_extension": ".py",
   "mimetype": "text/x-python",
   "name": "python",
   "nbconvert_exporter": "python",
   "pygments_lexer": "ipython3",
   "version": "3.7.6"
  }
 },
 "nbformat": 4,
 "nbformat_minor": 4
}
