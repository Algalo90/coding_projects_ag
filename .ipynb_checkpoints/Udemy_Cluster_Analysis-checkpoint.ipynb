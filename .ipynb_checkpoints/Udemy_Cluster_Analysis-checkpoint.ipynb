{
 "cells": [
  {
   "cell_type": "markdown",
   "metadata": {},
   "source": [
    "Division of groups withing a DataSet:\n",
    "  - Maximize the similarity intragroup while maximizing dissimilarity inter-groups\n",
    "  \n",
    "Two applications:\n",
    "  - Market segmentation\n",
    "  - Image segmentation\n",
    "  \n",
    "Difference between clasification and clustering:\n",
    "  - Clasification is logistic regression in machine learning terms, we have labels (supervised learning, we know the groups in which we can classify data)\n",
    "  - In Clustering we do not have labels (unsupervised learning) we cluster the data in different groups be we do not know if these clusters are: the right number, correct at all or useful whatsoever. Moreover, the output we get is soething we must name ourselves.\n",
    "  - Classification is predicting an output category given input data\n",
    "  - Clustering is grouping data points together based on similarities among them and differences from others.\n",
    "  \n",
    "Two Math pre-requisites:\n",
    "\n",
    "  - Know how to measure the distance between two data points (euclidean distance)\n",
    "  \n",
    "  - Define the term \"Centroid\": Mean position of a group of points\n"
   ]
  }
 ],
 "metadata": {
  "kernelspec": {
   "display_name": "Python 3",
   "language": "python",
   "name": "python3"
  },
  "language_info": {
   "codemirror_mode": {
    "name": "ipython",
    "version": 3
   },
   "file_extension": ".py",
   "mimetype": "text/x-python",
   "name": "python",
   "nbconvert_exporter": "python",
   "pygments_lexer": "ipython3",
   "version": "3.7.6"
  }
 },
 "nbformat": 4,
 "nbformat_minor": 4
}
