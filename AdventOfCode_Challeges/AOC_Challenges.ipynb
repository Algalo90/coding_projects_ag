{
 "cells": [
  {
   "cell_type": "markdown",
   "metadata": {},
   "source": [
    "#### Day 1\n",
    "    \n",
    "    Challenge 1\n"
   ]
  },
  {
   "cell_type": "code",
   "execution_count": 52,
   "metadata": {},
   "outputs": [
    {
     "name": "stdout",
     "output_type": "stream",
     "text": [
      "913824\n",
      "913824\n"
     ]
    }
   ],
   "source": [
    "with open('input_1c.txt','r') as doc:\n",
    "    numbers = [int(i) for i in doc.read().splitlines()]\n",
    "    \n",
    "for num in numbers:\n",
    "    if (2020-num) in numbers:\n",
    "        print(num*numbers[numbers.index(2020-num)])\n",
    "    "
   ]
  },
  {
   "cell_type": "markdown",
   "metadata": {},
   "source": [
    "#### Day 1\n",
    "    \n",
    "    Challenge 2"
   ]
  },
  {
   "cell_type": "code",
   "execution_count": 53,
   "metadata": {},
   "outputs": [
    {
     "name": "stdout",
     "output_type": "stream",
     "text": [
      "240889536\n"
     ]
    }
   ],
   "source": [
    "from itertools import combinations\n",
    "\n",
    "num_combi = combinations(numbers, 3)\n",
    "\n",
    "def product(sequence):\n",
    "    initial = 1\n",
    "    for i in sequence:\n",
    "        initial *= i\n",
    "    return initial\n",
    "\n",
    "for comb in num_combi:\n",
    "    if sum(comb) == 2020:\n",
    "        print(product(comb))"
   ]
  },
  {
   "cell_type": "markdown",
   "metadata": {},
   "source": [
    "#### Day 2\n",
    "    \n",
    "    Challenge 1"
   ]
  },
  {
   "cell_type": "code",
   "execution_count": 78,
   "metadata": {},
   "outputs": [
    {
     "name": "stdout",
     "output_type": "stream",
     "text": [
      "538\n"
     ]
    }
   ],
   "source": [
    "import re\n",
    "\n",
    "with open('input_2c.txt','r') as doc_2:\n",
    "    passwords = [i for i in doc_2.read().splitlines()]\n",
    "    \n",
    "def splitter(x):\n",
    "    splitting = re.search(r'(\\d+)-(\\d+) ([a-z]{1}):\\s+([a-z]+)', x).groups() #los paréntesis son los grupos que quiero\n",
    "    return splitting\n",
    "\n",
    "pass_list = [splitter(i) for i in passwords]\n",
    "\n",
    "def passcounter(ListOfPW):\n",
    "    counter = 0\n",
    "    for elem in ListOfPW:\n",
    "        if int(elem[0]) <= elem[3].count(elem[2]) <= int(elem[1]):\n",
    "            counter += 1\n",
    "    return counter\n",
    "\n",
    "print(passcounter(pass_list))"
   ]
  },
  {
   "cell_type": "markdown",
   "metadata": {},
   "source": [
    "#### Day 2\n",
    "    \n",
    "    Challenge 2"
   ]
  },
  {
   "cell_type": "code",
   "execution_count": 98,
   "metadata": {},
   "outputs": [
    {
     "name": "stdout",
     "output_type": "stream",
     "text": [
      "489\n"
     ]
    }
   ],
   "source": [
    "def passcounter_2(ListOfPW):\n",
    "    counter = 0    \n",
    "    for elem in ListOfPW:\n",
    "        letter1 = elem[3][int(elem[0]) -1]\n",
    "        letter2 = elem[3][int(elem[1])-1]\n",
    "        if letter1==elem[2] and letter2!=elem[2] or letter1!=elem[2] and letter2==elem[2]:\n",
    "            counter += 1\n",
    "        \n",
    "    return counter\n",
    "\n",
    "print(passcounter_2(pass_list))\n",
    "         "
   ]
  },
  {
   "cell_type": "markdown",
   "metadata": {},
   "source": [
    "#### Day 3\n",
    "    \n",
    "    Challenge 1"
   ]
  },
  {
   "cell_type": "code",
   "execution_count": 49,
   "metadata": {},
   "outputs": [],
   "source": [
    "with open('input_3c.txt','r') as doc_3:\n",
    "    maps = [i for i in doc_3.read().splitlines()]\n",
    "    \n",
    "\n",
    "def tobbogan(mapgrid, right,down):\n",
    "    route = ''\n",
    "    linewidth = len(maps[0])\n",
    "    pos = 0\n",
    "    \n",
    "    for i, line in enumerate(mapgrid[down::down]):\n",
    "        if len(line[pos:])-1 >= right:\n",
    "            pos =  pos + right\n",
    "            route += line[pos]\n",
    "        else:\n",
    "            pos = right - len(line[pos:])\n",
    "            route += line[pos]\n",
    "     \n",
    "        # print(i,line, pos, len(route), line[pos],right - len(line[pos:]))\n",
    "    return route.count('#')\n",
    "\n",
    "#Ojo con el orden del slope (right=3, down=1)!=(down=1,right=3) como va primero a la derecha, cuando se acaba la fila, primero vuelve a recorrer la fila y luego salta.\n",
    "   "
   ]
  },
  {
   "cell_type": "code",
   "execution_count": 50,
   "metadata": {},
   "outputs": [
    {
     "data": {
      "text/plain": [
       "181"
      ]
     },
     "execution_count": 50,
     "metadata": {},
     "output_type": "execute_result"
    }
   ],
   "source": [
    "tobbogan(maps,3,1)"
   ]
  },
  {
   "cell_type": "markdown",
   "metadata": {},
   "source": [
    "#### Day 3\n",
    "    \n",
    "    Challenge 2\n"
   ]
  },
  {
   "cell_type": "code",
   "execution_count": 55,
   "metadata": {},
   "outputs": [
    {
     "data": {
      "text/plain": [
       "1260601650"
      ]
     },
     "execution_count": 55,
     "metadata": {},
     "output_type": "execute_result"
    }
   ],
   "source": [
    "routes = ((1,1),(3,1),(5,1),(7,1),(1,2))\n",
    "product([tobbogan(maps,right, down) for right, down in routes])"
   ]
  },
  {
   "cell_type": "code",
   "execution_count": 19,
   "metadata": {},
   "outputs": [
    {
     "data": {
      "text/plain": [
       "[1, 3, 5]"
      ]
     },
     "execution_count": 19,
     "metadata": {},
     "output_type": "execute_result"
    }
   ],
   "source": [
    "prueba = [1,2,3,4,5,]\n",
    "prueba[::2]"
   ]
  },
  {
   "cell_type": "code",
   "execution_count": null,
   "metadata": {},
   "outputs": [],
   "source": []
  }
 ],
 "metadata": {
  "kernelspec": {
   "display_name": "Python 3",
   "language": "python",
   "name": "python3"
  },
  "language_info": {
   "codemirror_mode": {
    "name": "ipython",
    "version": 3
   },
   "file_extension": ".py",
   "mimetype": "text/x-python",
   "name": "python",
   "nbconvert_exporter": "python",
   "pygments_lexer": "ipython3",
   "version": "3.7.4"
  }
 },
 "nbformat": 4,
 "nbformat_minor": 4
}
