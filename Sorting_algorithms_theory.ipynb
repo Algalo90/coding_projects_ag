{
 "cells": [
  {
   "cell_type": "markdown",
   "metadata": {},
   "source": [
    "### Sorting algorithms:\n",
    "\n",
    "Functions that take an unsorted array of numbers and return an array of equal length and values but following some sort of order.\n",
    "\n",
    "The time complexity of such algorithms will be expressed in terms of big O notation:\n",
    "\n",
    "![title](big_o.jpeg)\n",
    "\n",
    "- Stable vs unstable algorithms: Stable ones will leave equal elements in the same order they where in the input array\n",
    "\n",
    "- The algorithms:\n",
    "    - Simpler but less time-efficient:\n",
    "        - Bubble sort\n",
    "        - Selection sort\n",
    "        - Insertion sort\n",
    "    - More complicated to understand and implement but faster:\n",
    "        - Merge sort\n",
    "        - Quicksort\n",
    "        - Heap Sort\n",
    "        \n",
    "        \n",
    "    \n",
    "Source: https://medium.com/jl-codes/understanding-sorting-algorithms-af6222995c8"
   ]
  },
  {
   "cell_type": "markdown",
   "metadata": {},
   "source": [
    "#### Bubble Sort:\n",
    "\n",
    "Cycles through the array looking at each pair of numbers. Places the lower on the left and the higher on the right. \n",
    "- Slow algorithm: Worst case scenario O(n<sup>2</sup>)\n",
    "- Not used nowadays, only for arrays that are half-way sorted\n",
    "- In-place algorithm, it does not take much extra memory space.\n",
    "- As with every outer loop, the inner loop ends closer to the beginning of the array, the higher numbers get placed first."
   ]
  },
  {
   "cell_type": "code",
   "execution_count": 16,
   "metadata": {},
   "outputs": [],
   "source": [
    "# Bubble sort implementation in Python 3:\n",
    "\n",
    "def BubbleSort(arr):\n",
    "    n = len(arr)\n",
    "    \n",
    "    for i in range(n-1): #also works with range(n) but does an extra loop\n",
    "        for j in range(n-i-1):\n",
    "            # print(i, arr[i],j, arr[j], arr[j+1]) # for checks only\n",
    "            if arr[j]>arr[j+1]:\n",
    "                arr[j], arr[j+1] = arr[j+1], arr[j]\n",
    "    return arr\n",
    "\n",
    "arr = [64, 34, 25, 12, 22,11, 90] \n",
    "\n",
    "\n",
    "\n"
   ]
  },
  {
   "cell_type": "code",
   "execution_count": 17,
   "metadata": {},
   "outputs": [
    {
     "data": {
      "text/plain": [
       "[11, 12, 22, 25, 34, 64, 90]"
      ]
     },
     "execution_count": 17,
     "metadata": {},
     "output_type": "execute_result"
    }
   ],
   "source": [
    "BubbleSort(arr)"
   ]
  },
  {
   "cell_type": "markdown",
   "metadata": {},
   "source": [
    "#### Selection Sort:\n",
    "\n",
    "Selection sort splits the input array between two parts. The sorted part (an array of numbers being built from smallest to largest), and the remainder numbers, that have yet to be sorted. At the beginning of the loop, the sorted part will be empty and the unsorted will be the entire input list.\n",
    "\n",
    "Selection sort finds the smallest element in the unsorted list and places it at the end of the sorted list.\n",
    "At any given time, the smallest element of the unsorted list is the next largest element of the sorted list.\n",
    "\n",
    "- Again, is a not very effective way of sorting large arrays. O(n<sup>2</sup>)\n",
    "- Slightly outperforms bubble sort, but still nothing to write home about.\n",
    "- In-place algorithm\n"
   ]
  },
  {
   "cell_type": "code",
   "execution_count": 22,
   "metadata": {},
   "outputs": [],
   "source": [
    "# Selection sort implementation in Python 3:\n",
    "\n",
    "def SelectionSort(arr):\n",
    "    n = len(arr)\n",
    "    \n",
    "    for i in range(n-1):\n",
    "        min_idx = i\n",
    "        for j in range(i+1,n-1):\n",
    "            # print(i, arr[i],j, arr[j], arr[j+1]) # for checks onl            \n",
    "            if arr[j] < arr[min_idx]:\n",
    "                min_idx = j\n",
    "        arr[i], arr[min_idx] = arr[min_idx], arr[i]\n",
    "    return arr\n"
   ]
  },
  {
   "cell_type": "code",
   "execution_count": 23,
   "metadata": {},
   "outputs": [
    {
     "data": {
      "text/plain": [
       "[11, 12, 22, 25, 34, 64, 90]"
      ]
     },
     "execution_count": 23,
     "metadata": {},
     "output_type": "execute_result"
    }
   ],
   "source": [
    "SelectionSort(arr)"
   ]
  },
  {
   "cell_type": "code",
   "execution_count": null,
   "metadata": {},
   "outputs": [],
   "source": []
  }
 ],
 "metadata": {
  "kernelspec": {
   "display_name": "Python 3",
   "language": "python",
   "name": "python3"
  },
  "language_info": {
   "codemirror_mode": {
    "name": "ipython",
    "version": 3
   },
   "file_extension": ".py",
   "mimetype": "text/x-python",
   "name": "python",
   "nbconvert_exporter": "python",
   "pygments_lexer": "ipython3",
   "version": "3.7.6"
  }
 },
 "nbformat": 4,
 "nbformat_minor": 4
}
