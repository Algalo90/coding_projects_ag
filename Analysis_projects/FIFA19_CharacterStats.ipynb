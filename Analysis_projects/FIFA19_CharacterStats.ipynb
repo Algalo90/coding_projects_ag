{
 "cells": [
  {
   "cell_type": "markdown",
   "metadata": {},
   "source": [
    "# Data analyses: FIFA 2019 Player Stats:\n",
    "-Index:\n",
    "    - 1.- Libraries and database loading\n",
    "    - 2.- Database division by user favorite team\n",
    "    - 3.- Finding the strongest team\n",
    "    - 4.- Setting a player's wage based on a player's overall performance\n",
    "    - 5.- Wage & Performance w/ training and test sets.\n",
    "    - 6.- Find the attribute that weights the most in determining the overall performance score\n",
    "        -6.1.- Comparison of simple linear regression:"
   ]
  },
  {
   "cell_type": "markdown",
   "metadata": {},
   "source": [
    "### 1.- Libraries and database loading:"
   ]
  },
  {
   "cell_type": "code",
   "execution_count": 2,
   "metadata": {},
   "outputs": [],
   "source": [
    "import numpy as np\n",
    "import pandas as pd\n",
    "import scipy\n",
    "import statsmodels.api as sm\n",
    "import matplotlib.pyplot as plt\n",
    "import seaborn as sns\n",
    "import sklearn\n",
    "sns.set()"
   ]
  },
  {
   "cell_type": "code",
   "execution_count": 3,
   "metadata": {},
   "outputs": [
    {
     "data": {
      "text/html": [
       "<div>\n",
       "<style scoped>\n",
       "    .dataframe tbody tr th:only-of-type {\n",
       "        vertical-align: middle;\n",
       "    }\n",
       "\n",
       "    .dataframe tbody tr th {\n",
       "        vertical-align: top;\n",
       "    }\n",
       "\n",
       "    .dataframe thead th {\n",
       "        text-align: right;\n",
       "    }\n",
       "</style>\n",
       "<table border=\"1\" class=\"dataframe\">\n",
       "  <thead>\n",
       "    <tr style=\"text-align: right;\">\n",
       "      <th></th>\n",
       "      <th>ID</th>\n",
       "      <th>Name</th>\n",
       "      <th>Age</th>\n",
       "      <th>Photo</th>\n",
       "      <th>Nationality</th>\n",
       "      <th>Flag</th>\n",
       "      <th>Overall</th>\n",
       "      <th>Potential</th>\n",
       "      <th>Club</th>\n",
       "      <th>Club Logo</th>\n",
       "      <th>...</th>\n",
       "      <th>Composure</th>\n",
       "      <th>Marking</th>\n",
       "      <th>StandingTackle</th>\n",
       "      <th>SlidingTackle</th>\n",
       "      <th>GKDiving</th>\n",
       "      <th>GKHandling</th>\n",
       "      <th>GKKicking</th>\n",
       "      <th>GKPositioning</th>\n",
       "      <th>GKReflexes</th>\n",
       "      <th>Release Clause</th>\n",
       "    </tr>\n",
       "  </thead>\n",
       "  <tbody>\n",
       "    <tr>\n",
       "      <th>0</th>\n",
       "      <td>16</td>\n",
       "      <td>Luis García</td>\n",
       "      <td>37</td>\n",
       "      <td>https://cdn.sofifa.org/players/4/19/16.png</td>\n",
       "      <td>Spain</td>\n",
       "      <td>https://cdn.sofifa.org/flags/45.png</td>\n",
       "      <td>71</td>\n",
       "      <td>71</td>\n",
       "      <td>KAS Eupen</td>\n",
       "      <td>https://cdn.sofifa.org/teams/2/light/2013.png</td>\n",
       "      <td>...</td>\n",
       "      <td>79.0</td>\n",
       "      <td>70.0</td>\n",
       "      <td>43.0</td>\n",
       "      <td>40.0</td>\n",
       "      <td>9.0</td>\n",
       "      <td>12.0</td>\n",
       "      <td>13.0</td>\n",
       "      <td>11.0</td>\n",
       "      <td>11.0</td>\n",
       "      <td>€1.1M</td>\n",
       "    </tr>\n",
       "    <tr>\n",
       "      <th>1</th>\n",
       "      <td>41</td>\n",
       "      <td>Iniesta</td>\n",
       "      <td>34</td>\n",
       "      <td>https://cdn.sofifa.org/players/4/19/41.png</td>\n",
       "      <td>Spain</td>\n",
       "      <td>https://cdn.sofifa.org/flags/45.png</td>\n",
       "      <td>86</td>\n",
       "      <td>86</td>\n",
       "      <td>Vissel Kobe</td>\n",
       "      <td>https://cdn.sofifa.org/teams/2/light/101146.png</td>\n",
       "      <td>...</td>\n",
       "      <td>89.0</td>\n",
       "      <td>67.0</td>\n",
       "      <td>57.0</td>\n",
       "      <td>56.0</td>\n",
       "      <td>6.0</td>\n",
       "      <td>13.0</td>\n",
       "      <td>6.0</td>\n",
       "      <td>13.0</td>\n",
       "      <td>7.0</td>\n",
       "      <td>€26.9M</td>\n",
       "    </tr>\n",
       "    <tr>\n",
       "      <th>2</th>\n",
       "      <td>80</td>\n",
       "      <td>E. Belözoğlu</td>\n",
       "      <td>37</td>\n",
       "      <td>https://cdn.sofifa.org/players/4/19/80.png</td>\n",
       "      <td>Turkey</td>\n",
       "      <td>https://cdn.sofifa.org/flags/48.png</td>\n",
       "      <td>79</td>\n",
       "      <td>79</td>\n",
       "      <td>Medipol Başakşehir FK</td>\n",
       "      <td>https://cdn.sofifa.org/teams/2/light/101014.png</td>\n",
       "      <td>...</td>\n",
       "      <td>80.0</td>\n",
       "      <td>65.0</td>\n",
       "      <td>67.0</td>\n",
       "      <td>60.0</td>\n",
       "      <td>7.0</td>\n",
       "      <td>11.0</td>\n",
       "      <td>7.0</td>\n",
       "      <td>14.0</td>\n",
       "      <td>8.0</td>\n",
       "      <td>€7.6M</td>\n",
       "    </tr>\n",
       "    <tr>\n",
       "      <th>3</th>\n",
       "      <td>164</td>\n",
       "      <td>G. Pinzi</td>\n",
       "      <td>37</td>\n",
       "      <td>https://cdn.sofifa.org/players/4/19/164.png</td>\n",
       "      <td>Italy</td>\n",
       "      <td>https://cdn.sofifa.org/flags/27.png</td>\n",
       "      <td>70</td>\n",
       "      <td>70</td>\n",
       "      <td>Padova</td>\n",
       "      <td>https://cdn.sofifa.org/teams/2/light/110912.png</td>\n",
       "      <td>...</td>\n",
       "      <td>68.0</td>\n",
       "      <td>74.0</td>\n",
       "      <td>71.0</td>\n",
       "      <td>66.0</td>\n",
       "      <td>5.0</td>\n",
       "      <td>15.0</td>\n",
       "      <td>7.0</td>\n",
       "      <td>6.0</td>\n",
       "      <td>13.0</td>\n",
       "      <td>€372K</td>\n",
       "    </tr>\n",
       "    <tr>\n",
       "      <th>4</th>\n",
       "      <td>657</td>\n",
       "      <td>D. Vaughan</td>\n",
       "      <td>35</td>\n",
       "      <td>https://cdn.sofifa.org/players/4/19/657.png</td>\n",
       "      <td>Wales</td>\n",
       "      <td>https://cdn.sofifa.org/flags/50.png</td>\n",
       "      <td>66</td>\n",
       "      <td>66</td>\n",
       "      <td>Notts County</td>\n",
       "      <td>https://cdn.sofifa.org/teams/2/light/1937.png</td>\n",
       "      <td>...</td>\n",
       "      <td>82.0</td>\n",
       "      <td>59.0</td>\n",
       "      <td>66.0</td>\n",
       "      <td>62.0</td>\n",
       "      <td>6.0</td>\n",
       "      <td>9.0</td>\n",
       "      <td>10.0</td>\n",
       "      <td>9.0</td>\n",
       "      <td>7.0</td>\n",
       "      <td>€263K</td>\n",
       "    </tr>\n",
       "  </tbody>\n",
       "</table>\n",
       "<p>5 rows × 88 columns</p>\n",
       "</div>"
      ],
      "text/plain": [
       "    ID          Name  Age                                        Photo  \\\n",
       "0   16   Luis García   37   https://cdn.sofifa.org/players/4/19/16.png   \n",
       "1   41       Iniesta   34   https://cdn.sofifa.org/players/4/19/41.png   \n",
       "2   80  E. Belözoğlu   37   https://cdn.sofifa.org/players/4/19/80.png   \n",
       "3  164      G. Pinzi   37  https://cdn.sofifa.org/players/4/19/164.png   \n",
       "4  657    D. Vaughan   35  https://cdn.sofifa.org/players/4/19/657.png   \n",
       "\n",
       "  Nationality                                 Flag  Overall  Potential  \\\n",
       "0       Spain  https://cdn.sofifa.org/flags/45.png       71         71   \n",
       "1       Spain  https://cdn.sofifa.org/flags/45.png       86         86   \n",
       "2      Turkey  https://cdn.sofifa.org/flags/48.png       79         79   \n",
       "3       Italy  https://cdn.sofifa.org/flags/27.png       70         70   \n",
       "4       Wales  https://cdn.sofifa.org/flags/50.png       66         66   \n",
       "\n",
       "                    Club                                        Club Logo  \\\n",
       "0              KAS Eupen    https://cdn.sofifa.org/teams/2/light/2013.png   \n",
       "1            Vissel Kobe  https://cdn.sofifa.org/teams/2/light/101146.png   \n",
       "2  Medipol Başakşehir FK  https://cdn.sofifa.org/teams/2/light/101014.png   \n",
       "3                 Padova  https://cdn.sofifa.org/teams/2/light/110912.png   \n",
       "4           Notts County    https://cdn.sofifa.org/teams/2/light/1937.png   \n",
       "\n",
       "   ... Composure Marking  StandingTackle SlidingTackle  GKDiving  GKHandling  \\\n",
       "0  ...      79.0    70.0            43.0          40.0       9.0        12.0   \n",
       "1  ...      89.0    67.0            57.0          56.0       6.0        13.0   \n",
       "2  ...      80.0    65.0            67.0          60.0       7.0        11.0   \n",
       "3  ...      68.0    74.0            71.0          66.0       5.0        15.0   \n",
       "4  ...      82.0    59.0            66.0          62.0       6.0         9.0   \n",
       "\n",
       "   GKKicking GKPositioning GKReflexes Release Clause  \n",
       "0       13.0          11.0       11.0          €1.1M  \n",
       "1        6.0          13.0        7.0         €26.9M  \n",
       "2        7.0          14.0        8.0          €7.6M  \n",
       "3        7.0           6.0       13.0          €372K  \n",
       "4       10.0           9.0        7.0          €263K  \n",
       "\n",
       "[5 rows x 88 columns]"
      ]
     },
     "execution_count": 3,
     "metadata": {},
     "output_type": "execute_result"
    }
   ],
   "source": [
    "fifa_chars_base = pd.read_csv('D:/DOCUMENTOS/Programacion/DS_BootCamp_Udemy/Resources/Fifa_19_Excel.csv')\n",
    "fifa_chars_base.head()"
   ]
  },
  {
   "cell_type": "markdown",
   "metadata": {},
   "source": [
    "Note: For a thorough explanation of the player stats, please check: https://www.fifauteam.com/fifa-19-attributes-guide/\n",
    "\n",
    "In order to work with a lighter database, we will drop the variables with url's of pictures."
   ]
  },
  {
   "cell_type": "code",
   "execution_count": 4,
   "metadata": {},
   "outputs": [
    {
     "data": {
      "text/html": [
       "<div>\n",
       "<style scoped>\n",
       "    .dataframe tbody tr th:only-of-type {\n",
       "        vertical-align: middle;\n",
       "    }\n",
       "\n",
       "    .dataframe tbody tr th {\n",
       "        vertical-align: top;\n",
       "    }\n",
       "\n",
       "    .dataframe thead th {\n",
       "        text-align: right;\n",
       "    }\n",
       "</style>\n",
       "<table border=\"1\" class=\"dataframe\">\n",
       "  <thead>\n",
       "    <tr style=\"text-align: right;\">\n",
       "      <th></th>\n",
       "      <th>ID</th>\n",
       "      <th>Name</th>\n",
       "      <th>Age</th>\n",
       "      <th>Nationality</th>\n",
       "      <th>Overall</th>\n",
       "      <th>Potential</th>\n",
       "      <th>Club</th>\n",
       "      <th>Value</th>\n",
       "      <th>Wage</th>\n",
       "      <th>Special</th>\n",
       "      <th>...</th>\n",
       "      <th>Composure</th>\n",
       "      <th>Marking</th>\n",
       "      <th>StandingTackle</th>\n",
       "      <th>SlidingTackle</th>\n",
       "      <th>GKDiving</th>\n",
       "      <th>GKHandling</th>\n",
       "      <th>GKKicking</th>\n",
       "      <th>GKPositioning</th>\n",
       "      <th>GKReflexes</th>\n",
       "      <th>Release Clause</th>\n",
       "    </tr>\n",
       "  </thead>\n",
       "  <tbody>\n",
       "    <tr>\n",
       "      <th>0</th>\n",
       "      <td>16</td>\n",
       "      <td>Luis García</td>\n",
       "      <td>37</td>\n",
       "      <td>Spain</td>\n",
       "      <td>71</td>\n",
       "      <td>71</td>\n",
       "      <td>KAS Eupen</td>\n",
       "      <td>€750K</td>\n",
       "      <td>€6K</td>\n",
       "      <td>1906</td>\n",
       "      <td>...</td>\n",
       "      <td>79.0</td>\n",
       "      <td>70.0</td>\n",
       "      <td>43.0</td>\n",
       "      <td>40.0</td>\n",
       "      <td>9.0</td>\n",
       "      <td>12.0</td>\n",
       "      <td>13.0</td>\n",
       "      <td>11.0</td>\n",
       "      <td>11.0</td>\n",
       "      <td>€1.1M</td>\n",
       "    </tr>\n",
       "    <tr>\n",
       "      <th>1</th>\n",
       "      <td>41</td>\n",
       "      <td>Iniesta</td>\n",
       "      <td>34</td>\n",
       "      <td>Spain</td>\n",
       "      <td>86</td>\n",
       "      <td>86</td>\n",
       "      <td>Vissel Kobe</td>\n",
       "      <td>€21.5M</td>\n",
       "      <td>€21K</td>\n",
       "      <td>2058</td>\n",
       "      <td>...</td>\n",
       "      <td>89.0</td>\n",
       "      <td>67.0</td>\n",
       "      <td>57.0</td>\n",
       "      <td>56.0</td>\n",
       "      <td>6.0</td>\n",
       "      <td>13.0</td>\n",
       "      <td>6.0</td>\n",
       "      <td>13.0</td>\n",
       "      <td>7.0</td>\n",
       "      <td>€26.9M</td>\n",
       "    </tr>\n",
       "    <tr>\n",
       "      <th>2</th>\n",
       "      <td>80</td>\n",
       "      <td>E. Belözoğlu</td>\n",
       "      <td>37</td>\n",
       "      <td>Turkey</td>\n",
       "      <td>79</td>\n",
       "      <td>79</td>\n",
       "      <td>Medipol Başakşehir FK</td>\n",
       "      <td>€4M</td>\n",
       "      <td>€23K</td>\n",
       "      <td>2047</td>\n",
       "      <td>...</td>\n",
       "      <td>80.0</td>\n",
       "      <td>65.0</td>\n",
       "      <td>67.0</td>\n",
       "      <td>60.0</td>\n",
       "      <td>7.0</td>\n",
       "      <td>11.0</td>\n",
       "      <td>7.0</td>\n",
       "      <td>14.0</td>\n",
       "      <td>8.0</td>\n",
       "      <td>€7.6M</td>\n",
       "    </tr>\n",
       "    <tr>\n",
       "      <th>3</th>\n",
       "      <td>164</td>\n",
       "      <td>G. Pinzi</td>\n",
       "      <td>37</td>\n",
       "      <td>Italy</td>\n",
       "      <td>70</td>\n",
       "      <td>70</td>\n",
       "      <td>Padova</td>\n",
       "      <td>€240K</td>\n",
       "      <td>€2K</td>\n",
       "      <td>1882</td>\n",
       "      <td>...</td>\n",
       "      <td>68.0</td>\n",
       "      <td>74.0</td>\n",
       "      <td>71.0</td>\n",
       "      <td>66.0</td>\n",
       "      <td>5.0</td>\n",
       "      <td>15.0</td>\n",
       "      <td>7.0</td>\n",
       "      <td>6.0</td>\n",
       "      <td>13.0</td>\n",
       "      <td>€372K</td>\n",
       "    </tr>\n",
       "    <tr>\n",
       "      <th>4</th>\n",
       "      <td>657</td>\n",
       "      <td>D. Vaughan</td>\n",
       "      <td>35</td>\n",
       "      <td>Wales</td>\n",
       "      <td>66</td>\n",
       "      <td>66</td>\n",
       "      <td>Notts County</td>\n",
       "      <td>€150K</td>\n",
       "      <td>€4K</td>\n",
       "      <td>1781</td>\n",
       "      <td>...</td>\n",
       "      <td>82.0</td>\n",
       "      <td>59.0</td>\n",
       "      <td>66.0</td>\n",
       "      <td>62.0</td>\n",
       "      <td>6.0</td>\n",
       "      <td>9.0</td>\n",
       "      <td>10.0</td>\n",
       "      <td>9.0</td>\n",
       "      <td>7.0</td>\n",
       "      <td>€263K</td>\n",
       "    </tr>\n",
       "  </tbody>\n",
       "</table>\n",
       "<p>5 rows × 85 columns</p>\n",
       "</div>"
      ],
      "text/plain": [
       "    ID          Name  Age Nationality  Overall  Potential  \\\n",
       "0   16   Luis García   37       Spain       71         71   \n",
       "1   41       Iniesta   34       Spain       86         86   \n",
       "2   80  E. Belözoğlu   37      Turkey       79         79   \n",
       "3  164      G. Pinzi   37       Italy       70         70   \n",
       "4  657    D. Vaughan   35       Wales       66         66   \n",
       "\n",
       "                    Club   Value  Wage  Special  ... Composure  Marking  \\\n",
       "0              KAS Eupen   €750K   €6K     1906  ...      79.0     70.0   \n",
       "1            Vissel Kobe  €21.5M  €21K     2058  ...      89.0     67.0   \n",
       "2  Medipol Başakşehir FK     €4M  €23K     2047  ...      80.0     65.0   \n",
       "3                 Padova   €240K   €2K     1882  ...      68.0     74.0   \n",
       "4           Notts County   €150K   €4K     1781  ...      82.0     59.0   \n",
       "\n",
       "   StandingTackle  SlidingTackle GKDiving GKHandling GKKicking GKPositioning  \\\n",
       "0            43.0           40.0      9.0       12.0      13.0          11.0   \n",
       "1            57.0           56.0      6.0       13.0       6.0          13.0   \n",
       "2            67.0           60.0      7.0       11.0       7.0          14.0   \n",
       "3            71.0           66.0      5.0       15.0       7.0           6.0   \n",
       "4            66.0           62.0      6.0        9.0      10.0           9.0   \n",
       "\n",
       "   GKReflexes Release Clause  \n",
       "0        11.0          €1.1M  \n",
       "1         7.0         €26.9M  \n",
       "2         8.0          €7.6M  \n",
       "3        13.0          €372K  \n",
       "4         7.0          €263K  \n",
       "\n",
       "[5 rows x 85 columns]"
      ]
     },
     "execution_count": 4,
     "metadata": {},
     "output_type": "execute_result"
    }
   ],
   "source": [
    "fifa_chars_base_II = fifa_chars_base.drop(['Photo', 'Flag', 'Club Logo'], axis=1)\n",
    "fifa_chars_base_II.head()"
   ]
  },
  {
   "cell_type": "markdown",
   "metadata": {},
   "source": [
    "### 2.- Database splitting by favorite team:"
   ]
  },
  {
   "cell_type": "code",
   "execution_count": 5,
   "metadata": {},
   "outputs": [
    {
     "name": "stdout",
     "output_type": "stream",
     "text": [
      "Insert your favorite team: Real Madrid\n"
     ]
    }
   ],
   "source": [
    "Teams = set([i for i in fifa_chars_base_II['Club']])\n",
    "\n",
    "user_fav_team = input('Insert your favorite team: ')\n",
    "while not user_fav_team in Teams:\n",
    "    user_fav_team = input('Insert your favorite team: ')\n",
    "    \n",
    "def fav_team_set(dataset: pd.DataFrame, team: str) -> pd.DataFrame:\n",
    "    '''Given a Fifa'19 dataset and a single football team, returns a subset with all the players of the given team'''\n",
    "    return dataset[dataset['Club'] == team]\n",
    "\n",
    "myteam_data = fav_team_set(fifa_chars_base_II, user_fav_team)"
   ]
  },
  {
   "cell_type": "code",
   "execution_count": 6,
   "metadata": {},
   "outputs": [
    {
     "data": {
      "text/html": [
       "<div>\n",
       "<style scoped>\n",
       "    .dataframe tbody tr th:only-of-type {\n",
       "        vertical-align: middle;\n",
       "    }\n",
       "\n",
       "    .dataframe tbody tr th {\n",
       "        vertical-align: top;\n",
       "    }\n",
       "\n",
       "    .dataframe thead th {\n",
       "        text-align: right;\n",
       "    }\n",
       "</style>\n",
       "<table border=\"1\" class=\"dataframe\">\n",
       "  <thead>\n",
       "    <tr style=\"text-align: right;\">\n",
       "      <th></th>\n",
       "      <th>ID</th>\n",
       "      <th>Name</th>\n",
       "      <th>Age</th>\n",
       "      <th>Nationality</th>\n",
       "      <th>Overall</th>\n",
       "      <th>Potential</th>\n",
       "      <th>Club</th>\n",
       "      <th>Value</th>\n",
       "      <th>Wage</th>\n",
       "      <th>Special</th>\n",
       "      <th>...</th>\n",
       "      <th>Composure</th>\n",
       "      <th>Marking</th>\n",
       "      <th>StandingTackle</th>\n",
       "      <th>SlidingTackle</th>\n",
       "      <th>GKDiving</th>\n",
       "      <th>GKHandling</th>\n",
       "      <th>GKKicking</th>\n",
       "      <th>GKPositioning</th>\n",
       "      <th>GKReflexes</th>\n",
       "      <th>Release Clause</th>\n",
       "    </tr>\n",
       "  </thead>\n",
       "  <tbody>\n",
       "    <tr>\n",
       "      <th>616</th>\n",
       "      <td>155862</td>\n",
       "      <td>Sergio Ramos</td>\n",
       "      <td>32</td>\n",
       "      <td>Spain</td>\n",
       "      <td>91</td>\n",
       "      <td>91</td>\n",
       "      <td>Real Madrid</td>\n",
       "      <td>€51M</td>\n",
       "      <td>€380K</td>\n",
       "      <td>2201</td>\n",
       "      <td>...</td>\n",
       "      <td>82.0</td>\n",
       "      <td>87.0</td>\n",
       "      <td>92.0</td>\n",
       "      <td>91.0</td>\n",
       "      <td>11.0</td>\n",
       "      <td>8.0</td>\n",
       "      <td>9.0</td>\n",
       "      <td>7.0</td>\n",
       "      <td>11.0</td>\n",
       "      <td>€104.6M</td>\n",
       "    </tr>\n",
       "    <tr>\n",
       "      <th>960</th>\n",
       "      <td>165153</td>\n",
       "      <td>K. Benzema</td>\n",
       "      <td>30</td>\n",
       "      <td>France</td>\n",
       "      <td>85</td>\n",
       "      <td>85</td>\n",
       "      <td>Real Madrid</td>\n",
       "      <td>€37M</td>\n",
       "      <td>€240K</td>\n",
       "      <td>2000</td>\n",
       "      <td>...</td>\n",
       "      <td>79.0</td>\n",
       "      <td>47.0</td>\n",
       "      <td>15.0</td>\n",
       "      <td>12.0</td>\n",
       "      <td>13.0</td>\n",
       "      <td>11.0</td>\n",
       "      <td>5.0</td>\n",
       "      <td>5.0</td>\n",
       "      <td>7.0</td>\n",
       "      <td>€75.9M</td>\n",
       "    </tr>\n",
       "    <tr>\n",
       "      <th>1417</th>\n",
       "      <td>173731</td>\n",
       "      <td>G. Bale</td>\n",
       "      <td>28</td>\n",
       "      <td>Wales</td>\n",
       "      <td>88</td>\n",
       "      <td>88</td>\n",
       "      <td>Real Madrid</td>\n",
       "      <td>€60M</td>\n",
       "      <td>€355K</td>\n",
       "      <td>2279</td>\n",
       "      <td>...</td>\n",
       "      <td>86.0</td>\n",
       "      <td>54.0</td>\n",
       "      <td>55.0</td>\n",
       "      <td>52.0</td>\n",
       "      <td>15.0</td>\n",
       "      <td>15.0</td>\n",
       "      <td>11.0</td>\n",
       "      <td>5.0</td>\n",
       "      <td>6.0</td>\n",
       "      <td>€123M</td>\n",
       "    </tr>\n",
       "    <tr>\n",
       "      <th>1533</th>\n",
       "      <td>176676</td>\n",
       "      <td>Marcelo</td>\n",
       "      <td>30</td>\n",
       "      <td>Brazil</td>\n",
       "      <td>88</td>\n",
       "      <td>88</td>\n",
       "      <td>Real Madrid</td>\n",
       "      <td>€43M</td>\n",
       "      <td>€285K</td>\n",
       "      <td>2279</td>\n",
       "      <td>...</td>\n",
       "      <td>86.0</td>\n",
       "      <td>71.0</td>\n",
       "      <td>85.0</td>\n",
       "      <td>86.0</td>\n",
       "      <td>12.0</td>\n",
       "      <td>5.0</td>\n",
       "      <td>5.0</td>\n",
       "      <td>5.0</td>\n",
       "      <td>9.0</td>\n",
       "      <td>€88.2M</td>\n",
       "    </tr>\n",
       "    <tr>\n",
       "      <th>1575</th>\n",
       "      <td>177003</td>\n",
       "      <td>L. Modrić</td>\n",
       "      <td>32</td>\n",
       "      <td>Croatia</td>\n",
       "      <td>91</td>\n",
       "      <td>91</td>\n",
       "      <td>Real Madrid</td>\n",
       "      <td>€67M</td>\n",
       "      <td>€420K</td>\n",
       "      <td>2280</td>\n",
       "      <td>...</td>\n",
       "      <td>84.0</td>\n",
       "      <td>60.0</td>\n",
       "      <td>76.0</td>\n",
       "      <td>73.0</td>\n",
       "      <td>13.0</td>\n",
       "      <td>9.0</td>\n",
       "      <td>7.0</td>\n",
       "      <td>14.0</td>\n",
       "      <td>9.0</td>\n",
       "      <td>€137.4M</td>\n",
       "    </tr>\n",
       "  </tbody>\n",
       "</table>\n",
       "<p>5 rows × 85 columns</p>\n",
       "</div>"
      ],
      "text/plain": [
       "          ID          Name  Age Nationality  Overall  Potential         Club  \\\n",
       "616   155862  Sergio Ramos   32       Spain       91         91  Real Madrid   \n",
       "960   165153    K. Benzema   30      France       85         85  Real Madrid   \n",
       "1417  173731       G. Bale   28       Wales       88         88  Real Madrid   \n",
       "1533  176676       Marcelo   30      Brazil       88         88  Real Madrid   \n",
       "1575  177003     L. Modrić   32     Croatia       91         91  Real Madrid   \n",
       "\n",
       "     Value   Wage  Special  ... Composure  Marking  StandingTackle  \\\n",
       "616   €51M  €380K     2201  ...      82.0     87.0            92.0   \n",
       "960   €37M  €240K     2000  ...      79.0     47.0            15.0   \n",
       "1417  €60M  €355K     2279  ...      86.0     54.0            55.0   \n",
       "1533  €43M  €285K     2279  ...      86.0     71.0            85.0   \n",
       "1575  €67M  €420K     2280  ...      84.0     60.0            76.0   \n",
       "\n",
       "      SlidingTackle GKDiving GKHandling GKKicking GKPositioning  GKReflexes  \\\n",
       "616            91.0     11.0        8.0       9.0           7.0        11.0   \n",
       "960            12.0     13.0       11.0       5.0           5.0         7.0   \n",
       "1417           52.0     15.0       15.0      11.0           5.0         6.0   \n",
       "1533           86.0     12.0        5.0       5.0           5.0         9.0   \n",
       "1575           73.0     13.0        9.0       7.0          14.0         9.0   \n",
       "\n",
       "     Release Clause  \n",
       "616         €104.6M  \n",
       "960          €75.9M  \n",
       "1417          €123M  \n",
       "1533         €88.2M  \n",
       "1575        €137.4M  \n",
       "\n",
       "[5 rows x 85 columns]"
      ]
     },
     "execution_count": 6,
     "metadata": {},
     "output_type": "execute_result"
    }
   ],
   "source": [
    "myteam_data.head()"
   ]
  },
  {
   "cell_type": "markdown",
   "metadata": {},
   "source": [
    "### 3.- Finding the strongest team (in terms of players, overall performance):"
   ]
  },
  {
   "cell_type": "code",
   "execution_count": 10,
   "metadata": {},
   "outputs": [],
   "source": [
    "teams_dataset = fifa_chars_base_II[['Club', 'Overall']].groupby('Club').mean().reset_index() \n",
    "# reset index prevents the new DataFrame from losing its column name 'Club'\n"
   ]
  },
  {
   "cell_type": "code",
   "execution_count": 11,
   "metadata": {},
   "outputs": [
    {
     "data": {
      "text/html": [
       "<div>\n",
       "<style scoped>\n",
       "    .dataframe tbody tr th:only-of-type {\n",
       "        vertical-align: middle;\n",
       "    }\n",
       "\n",
       "    .dataframe tbody tr th {\n",
       "        vertical-align: top;\n",
       "    }\n",
       "\n",
       "    .dataframe thead th {\n",
       "        text-align: right;\n",
       "    }\n",
       "</style>\n",
       "<table border=\"1\" class=\"dataframe\">\n",
       "  <thead>\n",
       "    <tr style=\"text-align: right;\">\n",
       "      <th></th>\n",
       "      <th>Club</th>\n",
       "      <th>Overall</th>\n",
       "    </tr>\n",
       "  </thead>\n",
       "  <tbody>\n",
       "    <tr>\n",
       "      <th>326</th>\n",
       "      <td>Juventus</td>\n",
       "      <td>82.280000</td>\n",
       "    </tr>\n",
       "    <tr>\n",
       "      <th>398</th>\n",
       "      <td>Napoli</td>\n",
       "      <td>80.000000</td>\n",
       "    </tr>\n",
       "    <tr>\n",
       "      <th>315</th>\n",
       "      <td>Inter</td>\n",
       "      <td>79.750000</td>\n",
       "    </tr>\n",
       "    <tr>\n",
       "      <th>470</th>\n",
       "      <td>Real Madrid</td>\n",
       "      <td>78.242424</td>\n",
       "    </tr>\n",
       "    <tr>\n",
       "      <th>382</th>\n",
       "      <td>Milan</td>\n",
       "      <td>78.074074</td>\n",
       "    </tr>\n",
       "    <tr>\n",
       "      <th>212</th>\n",
       "      <td>FC Barcelona</td>\n",
       "      <td>78.030303</td>\n",
       "    </tr>\n",
       "    <tr>\n",
       "      <th>435</th>\n",
       "      <td>Paris Saint-Germain</td>\n",
       "      <td>77.433333</td>\n",
       "    </tr>\n",
       "    <tr>\n",
       "      <th>482</th>\n",
       "      <td>Roma</td>\n",
       "      <td>77.423077</td>\n",
       "    </tr>\n",
       "    <tr>\n",
       "      <th>375</th>\n",
       "      <td>Manchester United</td>\n",
       "      <td>77.242424</td>\n",
       "    </tr>\n",
       "    <tr>\n",
       "      <th>214</th>\n",
       "      <td>FC Bayern München</td>\n",
       "      <td>77.000000</td>\n",
       "    </tr>\n",
       "  </tbody>\n",
       "</table>\n",
       "</div>"
      ],
      "text/plain": [
       "                    Club    Overall\n",
       "326             Juventus  82.280000\n",
       "398               Napoli  80.000000\n",
       "315                Inter  79.750000\n",
       "470          Real Madrid  78.242424\n",
       "382                Milan  78.074074\n",
       "212         FC Barcelona  78.030303\n",
       "435  Paris Saint-Germain  77.433333\n",
       "482                 Roma  77.423077\n",
       "375    Manchester United  77.242424\n",
       "214    FC Bayern München  77.000000"
      ]
     },
     "execution_count": 11,
     "metadata": {},
     "output_type": "execute_result"
    }
   ],
   "source": [
    "sorted_teams = teams_dataset.sort_values(by='Overall', ascending=False)\n",
    "top10_teams = sorted_teams.head(10)\n",
    "top10_teams\n"
   ]
  },
  {
   "cell_type": "code",
   "execution_count": 12,
   "metadata": {},
   "outputs": [
    {
     "data": {
      "image/png": "[encoded data removed]",
      "text/plain": [
       "<Figure size 432x288 with 1 Axes>"
      ]
     },
     "metadata": {},
     "output_type": "display_data"
    }
   ],
   "source": [
    "teams_ = top10_teams['Club']\n",
    "y_pos = np.arange(len(teams_))\n",
    "overall_value = top10_teams['Overall']\n",
    "\n",
    "plt.bar(y_pos, overall_value, align='center', alpha=0.9)\n",
    "plt.xticks(y_pos, teams_, rotation=90)\n",
    "plt.ylabel('Players avg overall performance')\n",
    "plt.title('Team avg overall performance ranking:')\n",
    "\n",
    "plt.show()\n"
   ]
  },
  {
   "cell_type": "markdown",
   "metadata": {},
   "source": [
    "### 4.- Setting a fair wage based on a player's overall performance:"
   ]
  },
  {
   "cell_type": "code",
   "execution_count": 13,
   "metadata": {},
   "outputs": [
    {
     "data": {
      "text/plain": [
       "(18207, 3)"
      ]
     },
     "execution_count": 13,
     "metadata": {},
     "output_type": "execute_result"
    }
   ],
   "source": [
    "# Wages need to be transformed into a numerical value so we can work with it.\n",
    "def to_number(column) -> list:\n",
    "    final_list = []\n",
    "    for num in column:\n",
    "        if num[-1] == 'K':\n",
    "            final_list.append(float(num[1:-1]) * 1000)\n",
    "        else:\n",
    "            final_list.append(float(num[1:]))\n",
    "    return final_list\n",
    "\n",
    "float_wage = to_number(fifa_chars_base_II['Wage'])\n",
    "\n",
    "player_oa_wage = pd.DataFrame({'Name':fifa_chars_base_II['Name'], 'Overall':fifa_chars_base_II['Overall'], 'Wage':to_number(fifa_chars_base_II['Wage'])})\n",
    "player_oa_wage.shape"
   ]
  },
  {
   "cell_type": "markdown",
   "metadata": {},
   "source": [
    "Check visually whether there is a correlation between overall performance and salary:"
   ]
  },
  {
   "cell_type": "code",
   "execution_count": 14,
   "metadata": {},
   "outputs": [
    {
     "data": {
      "image/png": "[encoded data removed]",
      "text/plain": [
       "<Figure size 432x288 with 1 Axes>"
      ]
     },
     "metadata": {},
     "output_type": "display_data"
    }
   ],
   "source": [
    "x1 = player_oa_wage['Overall']\n",
    "y = player_oa_wage['Wage']\n",
    "\n",
    "plt.scatter(x1,y, alpha=0.5, c=\"blue\")\n",
    "plt.xlabel('Overall Performance')\n",
    "plt.ylabel('Player\\'s Wage')\n",
    "plt.show()\n"
   ]
  },
  {
   "cell_type": "markdown",
   "metadata": {},
   "source": [
    "Visually there seems to be a strong correlation between both variebles, yet the relation is not linear but exponential:\n",
    "\n",
    "-Thus, to make it linear a logarythm transformation can be applied so we have a semi-log regression"
   ]
  },
  {
   "cell_type": "code",
   "execution_count": 15,
   "metadata": {},
   "outputs": [],
   "source": [
    "# As we'll need to apply a logarythmic transformation, data entries with a Wage value 0 must be removes in order to avoid dividing by zero and thus rebooting the entire universe\n",
    "player_oa_wage = player_oa_wage.loc[player_oa_wage['Wage'] > 0]\n",
    "player_oa_wage['log(Wage)'] = [ np.log(i) for i in player_oa_wage['Wage']]\n"
   ]
  },
  {
   "cell_type": "code",
   "execution_count": 16,
   "metadata": {},
   "outputs": [
    {
     "data": {
      "image/png": "[encoded data removed]",
      "text/plain": [
       "<Figure size 432x288 with 1 Axes>"
      ]
     },
     "metadata": {},
     "output_type": "display_data"
    }
   ],
   "source": [
    "x1 = player_oa_wage['Overall']\n",
    "y = player_oa_wage['log(Wage)']\n",
    "\n",
    "plt.scatter(x1,y, alpha=0.5)\n",
    "plt.xlabel('Overall Performance')\n",
    "plt.ylabel('log(Player\\'s Wage)')\n",
    "plt.show()\n",
    "\n",
    "# players with wages arround exp(7) and exp(9) range along a high dispersion of performances. This might be an ingame mechanism designed in order to allow players with restricted budgets to count on some good quality players"
   ]
  },
  {
   "cell_type": "code",
   "execution_count": 17,
   "metadata": {},
   "outputs": [
    {
     "data": {
      "text/plain": [
       "LinearRegression(copy_X=True, fit_intercept=True, n_jobs=None, normalize=False)"
      ]
     },
     "execution_count": 17,
     "metadata": {},
     "output_type": "execute_result"
    }
   ],
   "source": [
    "from sklearn.linear_model import LinearRegression\n",
    "\n",
    "x1_matrix = x1.values.reshape(-1,1)\n",
    "reg = LinearRegression()\n",
    "reg.fit(x1_matrix, y)"
   ]
  },
  {
   "cell_type": "code",
   "execution_count": 22,
   "metadata": {},
   "outputs": [
    {
     "data": {
      "text/html": [
       "<div>\n",
       "<style scoped>\n",
       "    .dataframe tbody tr th:only-of-type {\n",
       "        vertical-align: middle;\n",
       "    }\n",
       "\n",
       "    .dataframe tbody tr th {\n",
       "        vertical-align: top;\n",
       "    }\n",
       "\n",
       "    .dataframe thead th {\n",
       "        text-align: right;\n",
       "    }\n",
       "</style>\n",
       "<table border=\"1\" class=\"dataframe\">\n",
       "  <thead>\n",
       "    <tr style=\"text-align: right;\">\n",
       "      <th></th>\n",
       "      <th>Beta_0</th>\n",
       "      <th>Beta_1</th>\n",
       "      <th>R_sq</th>\n",
       "    </tr>\n",
       "  </thead>\n",
       "  <tbody>\n",
       "    <tr>\n",
       "      <th>0</th>\n",
       "      <td>-1.221685</td>\n",
       "      <td>[0.1434078500907559]</td>\n",
       "      <td>0.650289</td>\n",
       "    </tr>\n",
       "  </tbody>\n",
       "</table>\n",
       "</div>"
      ],
      "text/plain": [
       "     Beta_0                Beta_1      R_sq\n",
       "0 -1.221685  [0.1434078500907559]  0.650289"
      ]
     },
     "execution_count": 22,
     "metadata": {},
     "output_type": "execute_result"
    }
   ],
   "source": [
    "reg_results = pd.DataFrame(data=[[reg.intercept_,reg.coef_, reg.score(x1_matrix, y)]], columns=['Beta_0', 'Beta_1', 'R_sq'])\n",
    "reg_results"
   ]
  },
  {
   "cell_type": "code",
   "execution_count": 23,
   "metadata": {},
   "outputs": [
    {
     "data": {
      "text/html": [
       "<div>\n",
       "<style scoped>\n",
       "    .dataframe tbody tr th:only-of-type {\n",
       "        vertical-align: middle;\n",
       "    }\n",
       "\n",
       "    .dataframe tbody tr th {\n",
       "        vertical-align: top;\n",
       "    }\n",
       "\n",
       "    .dataframe thead th {\n",
       "        text-align: right;\n",
       "    }\n",
       "</style>\n",
       "<table border=\"1\" class=\"dataframe\">\n",
       "  <thead>\n",
       "    <tr style=\"text-align: right;\">\n",
       "      <th></th>\n",
       "      <th>Beta_0</th>\n",
       "      <th>Beta_1</th>\n",
       "      <th>R_sq</th>\n",
       "      <th>P Value</th>\n",
       "    </tr>\n",
       "  </thead>\n",
       "  <tbody>\n",
       "    <tr>\n",
       "      <th>0</th>\n",
       "      <td>-1.221685</td>\n",
       "      <td>[0.1434078500907559]</td>\n",
       "      <td>0.650289</td>\n",
       "      <td>0.0</td>\n",
       "    </tr>\n",
       "  </tbody>\n",
       "</table>\n",
       "</div>"
      ],
      "text/plain": [
       "     Beta_0                Beta_1      R_sq  P Value\n",
       "0 -1.221685  [0.1434078500907559]  0.650289      0.0"
      ]
     },
     "execution_count": 23,
     "metadata": {},
     "output_type": "execute_result"
    }
   ],
   "source": [
    "from sklearn.feature_selection import f_regression\n",
    "fp_vals = f_regression(x1_matrix, y)\n",
    "\n",
    "reg_results['P Value'] = fp_vals[1].round(3)\n",
    "reg_results"
   ]
  },
  {
   "cell_type": "markdown",
   "metadata": {},
   "source": [
    "### 5.- Fair Wage prediction with Train/Test Split:"
   ]
  },
  {
   "cell_type": "code",
   "execution_count": 24,
   "metadata": {},
   "outputs": [],
   "source": [
    "from sklearn.model_selection import train_test_split\n",
    "\n",
    "player_oa_wage_2 = player_oa_wage.loc[player_oa_wage['log(Wage)'] > 9]"
   ]
  },
  {
   "cell_type": "code",
   "execution_count": 25,
   "metadata": {},
   "outputs": [],
   "source": [
    "overall_sc = player_oa_wage_2['Overall'].values.reshape(-1,1)\n",
    "log_wage = player_oa_wage_2['log(Wage)'].values.reshape(-1,1)\n",
    "\n",
    "x_train, x_test, y_train, y_test = train_test_split(overall_sc, log_wage, train_size=0.2, random_state=365)"
   ]
  },
  {
   "cell_type": "code",
   "execution_count": 26,
   "metadata": {},
   "outputs": [
    {
     "data": {
      "text/plain": [
       "LinearRegression(copy_X=True, fit_intercept=True, n_jobs=None, normalize=False)"
      ]
     },
     "execution_count": 26,
     "metadata": {},
     "output_type": "execute_result"
    }
   ],
   "source": [
    "reg_2 = LinearRegression()\n",
    "reg_2.fit(x_train, y_train)"
   ]
  },
  {
   "cell_type": "markdown",
   "metadata": {},
   "source": [
    "##### Testing the model's predictions:"
   ]
  },
  {
   "cell_type": "code",
   "execution_count": 27,
   "metadata": {},
   "outputs": [],
   "source": [
    "y_hat = reg_2.predict(x_train)"
   ]
  },
  {
   "cell_type": "code",
   "execution_count": 28,
   "metadata": {},
   "outputs": [
    {
     "data": {
      "image/png": "[encoded data removed]",
      "text/plain": [
       "<Figure size 432x288 with 1 Axes>"
      ]
     },
     "metadata": {},
     "output_type": "display_data"
    }
   ],
   "source": [
    "plt.scatter(y_train, y_hat)\n",
    "plt.xlabel('Real log(Wage) (y_train)', size=18)\n",
    "plt.ylabel('Predicted log(Wage) (y_hat)', size=18)\n",
    "\n",
    "plt.show()"
   ]
  },
  {
   "cell_type": "code",
   "execution_count": 29,
   "metadata": {},
   "outputs": [
    {
     "data": {
      "text/plain": [
       "Text(0.5, 1.0, 'PDF RESIDUALS')"
      ]
     },
     "execution_count": 29,
     "metadata": {},
     "output_type": "execute_result"
    },
    {
     "data": {
      "image/png": "[encoded data removed]",
      "text/plain": [
       "<Figure size 432x288 with 1 Axes>"
      ]
     },
     "metadata": {},
     "output_type": "display_data"
    }
   ],
   "source": [
    "sns.distplot(y_train - y_hat)\n",
    "plt.title('PDF RESIDUALS', size=18)\n",
    "\n",
    "# Seems to be a good prediction as the residuals follow a normal distribution with mean equal to zero"
   ]
  },
  {
   "cell_type": "markdown",
   "metadata": {},
   "source": [
    "### 6.- What attribute explains the most of the Overall Performance Score?\n",
    "\n",
    "To simplify and make the analysis more fair, we'll be taking into account only the non-GK players"
   ]
  },
  {
   "cell_type": "code",
   "execution_count": 30,
   "metadata": {},
   "outputs": [],
   "source": [
    "list_col = [i for i in fifa_chars_base.columns]"
   ]
  },
  {
   "cell_type": "code",
   "execution_count": 31,
   "metadata": {},
   "outputs": [],
   "source": [
    "players_notGK = fifa_chars_base.loc[fifa_chars_base['Position'] != 'GK']"
   ]
  },
  {
   "cell_type": "markdown",
   "metadata": {},
   "source": [
    "##### 6.1.- Comparison of simple linear regression:"
   ]
  },
  {
   "cell_type": "code",
   "execution_count": 32,
   "metadata": {},
   "outputs": [],
   "source": [
    "attributes_ds = players_notGK[['ID', 'Overall','Crossing', 'Finishing', 'HeadingAccuracy', 'ShortPassing', 'Volleys', 'Dribbling', 'Curve', 'FKAccuracy', 'LongPassing', 'BallControl', 'Acceleration',\n",
    " 'SprintSpeed', 'Agility', 'Reactions', 'Balance', 'ShotPower', 'Jumping', 'Stamina', 'Strength', 'LongShots', 'Aggression', 'Interceptions','Positioning', 'Vision', 'Penalties', 'Composure', 'Marking', 'StandingTackle',\n",
    " 'SlidingTackle']]\n",
    "\n",
    "att_df_noNaN = attributes_ds.dropna()\n",
    "\n",
    "oa_df, att_df = att_df_noNaN[['ID', 'Overall']], att_df_noNaN[['Crossing', 'Finishing', 'HeadingAccuracy', 'ShortPassing', 'Volleys', 'Dribbling', 'Curve', 'FKAccuracy', 'LongPassing', 'BallControl', 'Acceleration',\n",
    " 'SprintSpeed', 'Agility', 'Reactions', 'Balance', 'ShotPower', 'Jumping', 'Stamina', 'Strength', 'LongShots', 'Aggression', 'Interceptions','Positioning', 'Vision', 'Penalties', 'Composure', 'Marking', 'StandingTackle',\n",
    " 'SlidingTackle']]\n",
    "\n",
    "\n"
   ]
  },
  {
   "cell_type": "code",
   "execution_count": 33,
   "metadata": {},
   "outputs": [
    {
     "data": {
      "text/plain": [
       "StandardScaler(copy=True, with_mean=True, with_std=True)"
      ]
     },
     "execution_count": 33,
     "metadata": {},
     "output_type": "execute_result"
    }
   ],
   "source": [
    "from sklearn.preprocessing import StandardScaler\n",
    "from sklearn.feature_selection import f_regression\n",
    "\n",
    "scaler = StandardScaler()\n",
    "\n",
    "scaler.fit(att_df)\n",
    "\n",
    "# Scaling attributes will allow us to make the comparables between one another"
   ]
  },
  {
   "cell_type": "code",
   "execution_count": 34,
   "metadata": {},
   "outputs": [],
   "source": [
    "y = oa_df['Overall']\n",
    "x1 = att_df['Curve']\n",
    "\n",
    "x1_matrix = x1.values.reshape(-1,1)"
   ]
  },
  {
   "cell_type": "code",
   "execution_count": 35,
   "metadata": {},
   "outputs": [
    {
     "data": {
      "text/plain": [
       "array([0.22570178])"
      ]
     },
     "execution_count": 35,
     "metadata": {},
     "output_type": "execute_result"
    }
   ],
   "source": [
    "reg = LinearRegression()\n",
    "reg.fit(x1_matrix, y)\n",
    "reg.coef_"
   ]
  },
  {
   "cell_type": "code",
   "execution_count": 36,
   "metadata": {},
   "outputs": [
    {
     "data": {
      "text/plain": [
       "54.890391191499575"
      ]
     },
     "execution_count": 36,
     "metadata": {},
     "output_type": "execute_result"
    }
   ],
   "source": [
    "reg.intercept_"
   ]
  },
  {
   "cell_type": "code",
   "execution_count": 37,
   "metadata": {},
   "outputs": [],
   "source": [
    "# Funtions that returns the values for the individual betas for each attribute, the R Squared and P values for each estimator:\n",
    "\n",
    "def att_intercept(dep_var_df, indep_var_df):\n",
    "    y = dep_var_df['Overall'].values\n",
    "    value_list = []\n",
    "    for col in indep_var_df:\n",
    "        x1 = indep_var_df[col]\n",
    "        x1_matrix = x1.values.reshape(-1,1)\n",
    "        reg = LinearRegression()\n",
    "        reg.fit(x1_matrix, y)\n",
    "        value_list.append(reg.intercept_.round(3))         \n",
    "    return np.array(value_list)\n",
    "\n",
    "def beta_one(dep_var_df, indep_var_df):\n",
    "    y = dep_var_df['Overall'].values\n",
    "    value_list = []\n",
    "    for col in indep_var_df:\n",
    "        x1 = indep_var_df[col]\n",
    "        x1_matrix = x1.values.reshape(-1,1)\n",
    "        reg = LinearRegression()\n",
    "        reg.fit(x1_matrix, y)\n",
    "        value_list.append(reg.coef_.round(3)) \n",
    "    return np.array(value_list)\n",
    "               \n",
    "def r_sq(dep_var_df, indep_var_df):\n",
    "    y = dep_var_df['Overall'].values\n",
    "    value_list = []\n",
    "    for col in indep_var_df:\n",
    "        x1 = indep_var_df[col]\n",
    "        x1_matrix = x1.values.reshape(-1,1)\n",
    "        reg = LinearRegression()\n",
    "        reg.fit(x1_matrix, y)\n",
    "        value_list.append(reg.score(x1_matrix, y).round(3))\n",
    "    return np.array(value_list)\n",
    "        \n",
    "def P_val(dep_var_df, indep_var_df):\n",
    "    y = dep_var_df['Overall'].values\n",
    "    value_list = []\n",
    "    for col in indep_var_df:\n",
    "        x1 = indep_var_df[col]\n",
    "        x1_matrix = x1.values.reshape(-1,1)\n",
    "        fp_vals = f_regression(x1_matrix, y)\n",
    "        value_list.append(fp_vals[1].round(3))\n",
    "    return np.array(value_list)\n",
    "        \n",
    " \n",
    "\n"
   ]
  },
  {
   "cell_type": "code",
   "execution_count": 38,
   "metadata": {
    "scrolled": true
   },
   "outputs": [],
   "source": [
    "df_att_predictors = pd.DataFrame({'Attributes':att_df.columns.values})\n",
    "df_att_predictors['Beta_0'] = att_intercept(oa_df, att_df)\n",
    "df_att_predictors['Beta_1'] = beta_one(oa_df, att_df)\n",
    "df_att_predictors['R_Squared'] = r_sq(oa_df, att_df)\n",
    "df_att_predictors['P_values'] = P_val(oa_df, att_df)"
   ]
  },
  {
   "cell_type": "code",
   "execution_count": 135,
   "metadata": {},
   "outputs": [
    {
     "data": {
      "text/html": [
       "<div>\n",
       "<style scoped>\n",
       "    .dataframe tbody tr th:only-of-type {\n",
       "        vertical-align: middle;\n",
       "    }\n",
       "\n",
       "    .dataframe tbody tr th {\n",
       "        vertical-align: top;\n",
       "    }\n",
       "\n",
       "    .dataframe thead th {\n",
       "        text-align: right;\n",
       "    }\n",
       "</style>\n",
       "<table border=\"1\" class=\"dataframe\">\n",
       "  <thead>\n",
       "    <tr style=\"text-align: right;\">\n",
       "      <th></th>\n",
       "      <th>Attributes</th>\n",
       "      <th>Beta_0</th>\n",
       "      <th>Beta_1</th>\n",
       "      <th>R_Squared</th>\n",
       "      <th>P_values</th>\n",
       "    </tr>\n",
       "  </thead>\n",
       "  <tbody>\n",
       "    <tr>\n",
       "      <th>0</th>\n",
       "      <td>Crossing</td>\n",
       "      <td>53.512</td>\n",
       "      <td>0.239</td>\n",
       "      <td>0.247</td>\n",
       "      <td>0.0</td>\n",
       "    </tr>\n",
       "    <tr>\n",
       "      <th>1</th>\n",
       "      <td>Finishing</td>\n",
       "      <td>58.755</td>\n",
       "      <td>0.155</td>\n",
       "      <td>0.139</td>\n",
       "      <td>0.0</td>\n",
       "    </tr>\n",
       "    <tr>\n",
       "      <th>2</th>\n",
       "      <td>HeadingAccuracy</td>\n",
       "      <td>50.848</td>\n",
       "      <td>0.274</td>\n",
       "      <td>0.218</td>\n",
       "      <td>0.0</td>\n",
       "    </tr>\n",
       "    <tr>\n",
       "      <th>3</th>\n",
       "      <td>ShortPassing</td>\n",
       "      <td>35.070</td>\n",
       "      <td>0.501</td>\n",
       "      <td>0.522</td>\n",
       "      <td>0.0</td>\n",
       "    </tr>\n",
       "    <tr>\n",
       "      <th>4</th>\n",
       "      <td>Volleys</td>\n",
       "      <td>56.744</td>\n",
       "      <td>0.208</td>\n",
       "      <td>0.204</td>\n",
       "      <td>0.0</td>\n",
       "    </tr>\n",
       "    <tr>\n",
       "      <th>5</th>\n",
       "      <td>Dribbling</td>\n",
       "      <td>49.467</td>\n",
       "      <td>0.280</td>\n",
       "      <td>0.267</td>\n",
       "      <td>0.0</td>\n",
       "    </tr>\n",
       "    <tr>\n",
       "      <th>6</th>\n",
       "      <td>Curve</td>\n",
       "      <td>54.890</td>\n",
       "      <td>0.226</td>\n",
       "      <td>0.253</td>\n",
       "      <td>0.0</td>\n",
       "    </tr>\n",
       "    <tr>\n",
       "      <th>7</th>\n",
       "      <td>FKAccuracy</td>\n",
       "      <td>56.914</td>\n",
       "      <td>0.206</td>\n",
       "      <td>0.208</td>\n",
       "      <td>0.0</td>\n",
       "    </tr>\n",
       "    <tr>\n",
       "      <th>8</th>\n",
       "      <td>LongPassing</td>\n",
       "      <td>48.458</td>\n",
       "      <td>0.321</td>\n",
       "      <td>0.343</td>\n",
       "      <td>0.0</td>\n",
       "    </tr>\n",
       "    <tr>\n",
       "      <th>9</th>\n",
       "      <td>BallControl</td>\n",
       "      <td>35.707</td>\n",
       "      <td>0.487</td>\n",
       "      <td>0.515</td>\n",
       "      <td>0.0</td>\n",
       "    </tr>\n",
       "    <tr>\n",
       "      <th>10</th>\n",
       "      <td>Acceleration</td>\n",
       "      <td>60.537</td>\n",
       "      <td>0.087</td>\n",
       "      <td>0.023</td>\n",
       "      <td>0.0</td>\n",
       "    </tr>\n",
       "    <tr>\n",
       "      <th>11</th>\n",
       "      <td>SprintSpeed</td>\n",
       "      <td>59.607</td>\n",
       "      <td>0.101</td>\n",
       "      <td>0.029</td>\n",
       "      <td>0.0</td>\n",
       "    </tr>\n",
       "    <tr>\n",
       "      <th>12</th>\n",
       "      <td>Agility</td>\n",
       "      <td>57.526</td>\n",
       "      <td>0.134</td>\n",
       "      <td>0.060</td>\n",
       "      <td>0.0</td>\n",
       "    </tr>\n",
       "    <tr>\n",
       "      <th>13</th>\n",
       "      <td>Reactions</td>\n",
       "      <td>25.581</td>\n",
       "      <td>0.657</td>\n",
       "      <td>0.719</td>\n",
       "      <td>0.0</td>\n",
       "    </tr>\n",
       "    <tr>\n",
       "      <th>14</th>\n",
       "      <td>Balance</td>\n",
       "      <td>64.244</td>\n",
       "      <td>0.033</td>\n",
       "      <td>0.004</td>\n",
       "      <td>0.0</td>\n",
       "    </tr>\n",
       "    <tr>\n",
       "      <th>15</th>\n",
       "      <td>ShotPower</td>\n",
       "      <td>49.234</td>\n",
       "      <td>0.289</td>\n",
       "      <td>0.317</td>\n",
       "      <td>0.0</td>\n",
       "    </tr>\n",
       "    <tr>\n",
       "      <th>16</th>\n",
       "      <td>Jumping</td>\n",
       "      <td>57.570</td>\n",
       "      <td>0.135</td>\n",
       "      <td>0.052</td>\n",
       "      <td>0.0</td>\n",
       "    </tr>\n",
       "    <tr>\n",
       "      <th>17</th>\n",
       "      <td>Stamina</td>\n",
       "      <td>47.572</td>\n",
       "      <td>0.280</td>\n",
       "      <td>0.213</td>\n",
       "      <td>0.0</td>\n",
       "    </tr>\n",
       "    <tr>\n",
       "      <th>18</th>\n",
       "      <td>Strength</td>\n",
       "      <td>54.334</td>\n",
       "      <td>0.184</td>\n",
       "      <td>0.116</td>\n",
       "      <td>0.0</td>\n",
       "    </tr>\n",
       "    <tr>\n",
       "      <th>19</th>\n",
       "      <td>LongShots</td>\n",
       "      <td>55.296</td>\n",
       "      <td>0.217</td>\n",
       "      <td>0.252</td>\n",
       "      <td>0.0</td>\n",
       "    </tr>\n",
       "    <tr>\n",
       "      <th>20</th>\n",
       "      <td>Aggression</td>\n",
       "      <td>53.755</td>\n",
       "      <td>0.213</td>\n",
       "      <td>0.206</td>\n",
       "      <td>0.0</td>\n",
       "    </tr>\n",
       "    <tr>\n",
       "      <th>21</th>\n",
       "      <td>Interceptions</td>\n",
       "      <td>60.377</td>\n",
       "      <td>0.121</td>\n",
       "      <td>0.111</td>\n",
       "      <td>0.0</td>\n",
       "    </tr>\n",
       "    <tr>\n",
       "      <th>22</th>\n",
       "      <td>Positioning</td>\n",
       "      <td>55.321</td>\n",
       "      <td>0.203</td>\n",
       "      <td>0.193</td>\n",
       "      <td>0.0</td>\n",
       "    </tr>\n",
       "    <tr>\n",
       "      <th>23</th>\n",
       "      <td>Vision</td>\n",
       "      <td>51.144</td>\n",
       "      <td>0.276</td>\n",
       "      <td>0.275</td>\n",
       "      <td>0.0</td>\n",
       "    </tr>\n",
       "    <tr>\n",
       "      <th>24</th>\n",
       "      <td>Penalties</td>\n",
       "      <td>55.388</td>\n",
       "      <td>0.212</td>\n",
       "      <td>0.153</td>\n",
       "      <td>0.0</td>\n",
       "    </tr>\n",
       "    <tr>\n",
       "      <th>25</th>\n",
       "      <td>Composure</td>\n",
       "      <td>34.057</td>\n",
       "      <td>0.537</td>\n",
       "      <td>0.643</td>\n",
       "      <td>0.0</td>\n",
       "    </tr>\n",
       "    <tr>\n",
       "      <th>26</th>\n",
       "      <td>Marking</td>\n",
       "      <td>60.263</td>\n",
       "      <td>0.121</td>\n",
       "      <td>0.094</td>\n",
       "      <td>0.0</td>\n",
       "    </tr>\n",
       "    <tr>\n",
       "      <th>27</th>\n",
       "      <td>StandingTackle</td>\n",
       "      <td>61.590</td>\n",
       "      <td>0.094</td>\n",
       "      <td>0.070</td>\n",
       "      <td>0.0</td>\n",
       "    </tr>\n",
       "    <tr>\n",
       "      <th>28</th>\n",
       "      <td>SlidingTackle</td>\n",
       "      <td>62.501</td>\n",
       "      <td>0.080</td>\n",
       "      <td>0.051</td>\n",
       "      <td>0.0</td>\n",
       "    </tr>\n",
       "  </tbody>\n",
       "</table>\n",
       "</div>"
      ],
      "text/plain": [
       "         Attributes  Beta_0  Beta_1  R_Squared  P_values\n",
       "0          Crossing  53.512   0.239      0.247       0.0\n",
       "1         Finishing  58.755   0.155      0.139       0.0\n",
       "2   HeadingAccuracy  50.848   0.274      0.218       0.0\n",
       "3      ShortPassing  35.070   0.501      0.522       0.0\n",
       "4           Volleys  56.744   0.208      0.204       0.0\n",
       "5         Dribbling  49.467   0.280      0.267       0.0\n",
       "6             Curve  54.890   0.226      0.253       0.0\n",
       "7        FKAccuracy  56.914   0.206      0.208       0.0\n",
       "8       LongPassing  48.458   0.321      0.343       0.0\n",
       "9       BallControl  35.707   0.487      0.515       0.0\n",
       "10     Acceleration  60.537   0.087      0.023       0.0\n",
       "11      SprintSpeed  59.607   0.101      0.029       0.0\n",
       "12          Agility  57.526   0.134      0.060       0.0\n",
       "13        Reactions  25.581   0.657      0.719       0.0\n",
       "14          Balance  64.244   0.033      0.004       0.0\n",
       "15        ShotPower  49.234   0.289      0.317       0.0\n",
       "16          Jumping  57.570   0.135      0.052       0.0\n",
       "17          Stamina  47.572   0.280      0.213       0.0\n",
       "18         Strength  54.334   0.184      0.116       0.0\n",
       "19        LongShots  55.296   0.217      0.252       0.0\n",
       "20       Aggression  53.755   0.213      0.206       0.0\n",
       "21    Interceptions  60.377   0.121      0.111       0.0\n",
       "22      Positioning  55.321   0.203      0.193       0.0\n",
       "23           Vision  51.144   0.276      0.275       0.0\n",
       "24        Penalties  55.388   0.212      0.153       0.0\n",
       "25        Composure  34.057   0.537      0.643       0.0\n",
       "26          Marking  60.263   0.121      0.094       0.0\n",
       "27   StandingTackle  61.590   0.094      0.070       0.0\n",
       "28    SlidingTackle  62.501   0.080      0.051       0.0"
      ]
     },
     "execution_count": 135,
     "metadata": {},
     "output_type": "execute_result"
    }
   ],
   "source": [
    "df_att_predictors"
   ]
  },
  {
   "cell_type": "code",
   "execution_count": null,
   "metadata": {},
   "outputs": [],
   "source": []
  },
  {
   "cell_type": "code",
   "execution_count": null,
   "metadata": {},
   "outputs": [],
   "source": []
  },
  {
   "cell_type": "code",
   "execution_count": null,
   "metadata": {},
   "outputs": [],
   "source": []
  },
  {
   "cell_type": "code",
   "execution_count": null,
   "metadata": {},
   "outputs": [],
   "source": []
  },
  {
   "cell_type": "code",
   "execution_count": null,
   "metadata": {},
   "outputs": [],
   "source": []
  },
  {
   "cell_type": "code",
   "execution_count": 79,
   "metadata": {},
   "outputs": [
    {
     "name": "stdout",
     "output_type": "stream",
     "text": [
      "['0', '0', '0', '0', '0', '0', '0', '0', '0', '0', '0', '0', '0', '0', '0', '0', '0', '0', '0', '0', '0', '0', '0', '0', '0', '0', '0', '0', '0', '0', '0', '0', '0', '0', '0', '0', '0', '0', '0', '0', '0', '0', '0', '0', '0', '0', '0', '0', '0', '0', '0', '0', '0', '0', '0', '0', '0', '0', '0', '0', '0', '0', '0', '0', '0', '0', '0', '0', '0', '0', '0', '0', '0', '0', '0', '0', '0', '0', '0', '0', '0', '0', '0', '0', '0', '0', '0', '0', '0', '0', '0', '0', '0', '0', '0', '0', '0', '0', '0', '0', '0', '0', '0', '0', '0', '0', '0', '0', '0', '0', '0', '0', '0', '0', '0', '0', '0', '0', '0', '0', '0', '0', '0', '0', '0', '0', '0', '0', '0', '0', '0', '0', '0', '0', '0', '0', '0', '0', '0', '0', '0', '0', '0', '0', '0', '0', '0', '0', '0', '0', '0', '0', '0', '0', '0', '0', '0', '0', '0', '0', '0', '0', '0', '0', '0', '0', '0', '0', '0', '0', '0', '0', '0', '0', '0', '0', '0', '0', '0', '0', '0', '0', '0', '0', '0', '0', '0', '0', '0', '0', '0', '0', '0', '0', '0', '0', '0', '0', '0', '0', '0', '0', '0', '0', '0', '0', '0', '0', '0', '0', '0', '0', '0', '0', '0', '0', '0', '0', '0', '0', '0', '0', '0', '0', '0', '0', '0', '0', '0', '0', '0', '0', '0', '0', '0', '0', '0', '0', '0', '0', '0'] 18207 17966\n"
     ]
    }
   ],
   "source": [
    "lines = 0\n",
    "k = 0\n",
    "not_k = []\n",
    "for i in fifa_chars_base_II['Wage']:\n",
    "    lines += 1\n",
    "    if i[-1] == 'K':\n",
    "        k += 1\n",
    "    else:\n",
    "        not_k.append(i[-1])\n",
    "print(not_k,lines, k)"
   ]
  },
  {
   "cell_type": "code",
   "execution_count": null,
   "metadata": {},
   "outputs": [],
   "source": []
  },
  {
   "cell_type": "code",
   "execution_count": null,
   "metadata": {},
   "outputs": [],
   "source": []
  },
  {
   "cell_type": "code",
   "execution_count": null,
   "metadata": {},
   "outputs": [],
   "source": []
  },
  {
   "cell_type": "code",
   "execution_count": null,
   "metadata": {},
   "outputs": [],
   "source": []
  },
  {
   "cell_type": "code",
   "execution_count": null,
   "metadata": {},
   "outputs": [],
   "source": []
  },
  {
   "cell_type": "code",
   "execution_count": null,
   "metadata": {},
   "outputs": [],
   "source": []
  },
  {
   "cell_type": "code",
   "execution_count": null,
   "metadata": {},
   "outputs": [],
   "source": []
  },
  {
   "cell_type": "code",
   "execution_count": null,
   "metadata": {},
   "outputs": [],
   "source": []
  },
  {
   "cell_type": "code",
   "execution_count": null,
   "metadata": {},
   "outputs": [],
   "source": []
  },
  {
   "cell_type": "code",
   "execution_count": null,
   "metadata": {},
   "outputs": [],
   "source": [
    "plt.bar(x=sorted_teams['Club'], height=sorted_teams['Overall'], align='center')\n",
    "\n",
    "\n",
    "#plt.xticks(sorted_teams['Club'], sorted_teams['Overall'])\n",
    "#plt.xlabel('Team')\n",
    "#plt.ylabel('Players avg overall performance')\n",
    "#plt.title('Team avg overall performance ranking:')\n",
    "plt.show()"
   ]
  },
  {
   "cell_type": "code",
   "execution_count": 35,
   "metadata": {},
   "outputs": [],
   "source": [
    "# Abrimos el csv y lo guardamos en un DataFrame de Pandas\n",
    "import pandas as pd\n",
    "\n",
    "fifa_chars = pd.read_csv('D:/DOCUMENTOS/Programacion/DS_BootCamp_Udemy/Resources/Fifa_19_Excel.csv') # Por defecto, la fila 0 ya son los títulos de las columnas"
   ]
  },
  {
   "cell_type": "code",
   "execution_count": 42,
   "metadata": {},
   "outputs": [
    {
     "data": {
      "text/plain": [
       "(16182, 88)"
      ]
     },
     "execution_count": 42,
     "metadata": {},
     "output_type": "execute_result"
    }
   ],
   "source": [
    "players_notGK.shape"
   ]
  },
  {
   "cell_type": "code",
   "execution_count": null,
   "metadata": {},
   "outputs": [],
   "source": []
  },
  {
   "cell_type": "code",
   "execution_count": 14,
   "metadata": {},
   "outputs": [],
   "source": [
    "lista_atributos = fifa_chars.columns"
   ]
  },
  {
   "cell_type": "code",
   "execution_count": 15,
   "metadata": {},
   "outputs": [
    {
     "data": {
      "text/plain": [
       "Index(['ID', 'Name', 'Age', 'Photo', 'Nationality', 'Flag', 'Overall',\n",
       "       'Potential', 'Club', 'Club Logo', 'Value', 'Wage', 'Special',\n",
       "       'Preferred Foot', 'International Reputation', 'Weak Foot',\n",
       "       'Skill Moves', 'Work Rate', 'Body Type', 'Real Face', 'Position',\n",
       "       'Jersey Number', 'Joined', 'Loaned From', 'Contract Valid Until',\n",
       "       'Height', 'Weight', 'LS', 'ST', 'RS', 'LW', 'LF', 'CF', 'RF', 'RW',\n",
       "       'LAM', 'CAM', 'RAM', 'LM', 'LCM', 'CM', 'RCM', 'RM', 'LWB', 'LDM',\n",
       "       'CDM', 'RDM', 'RWB', 'LB', 'LCB', 'CB', 'RCB', 'RB', 'Crossing',\n",
       "       'Finishing', 'HeadingAccuracy', 'ShortPassing', 'Volleys', 'Dribbling',\n",
       "       'Curve', 'FKAccuracy', 'LongPassing', 'BallControl', 'Acceleration',\n",
       "       'SprintSpeed', 'Agility', 'Reactions', 'Balance', 'ShotPower',\n",
       "       'Jumping', 'Stamina', 'Strength', 'LongShots', 'Aggression',\n",
       "       'Interceptions', 'Positioning', 'Vision', 'Penalties', 'Composure',\n",
       "       'Marking', 'StandingTackle', 'SlidingTackle', 'GKDiving', 'GKHandling',\n",
       "       'GKKicking', 'GKPositioning', 'GKReflexes', 'Release Clause'],\n",
       "      dtype='object')"
      ]
     },
     "execution_count": 15,
     "metadata": {},
     "output_type": "execute_result"
    }
   ],
   "source": [
    "lista_atributos"
   ]
  },
  {
   "cell_type": "code",
   "execution_count": 16,
   "metadata": {},
   "outputs": [],
   "source": [
    "import selenium"
   ]
  },
  {
   "cell_type": "code",
   "execution_count": null,
   "metadata": {},
   "outputs": [],
   "source": [
    "selenium"
   ]
  },
  {
   "cell_type": "code",
   "execution_count": null,
   "metadata": {},
   "outputs": [],
   "source": []
  },
  {
   "cell_type": "code",
   "execution_count": null,
   "metadata": {},
   "outputs": [],
   "source": []
  }
 ],
 "metadata": {
  "kernelspec": {
   "display_name": "Python 3",
   "language": "python",
   "name": "python3"
  },
  "language_info": {
   "codemirror_mode": {
    "name": "ipython",
    "version": 3
   },
   "file_extension": ".py",
   "mimetype": "text/x-python",
   "name": "python",
   "nbconvert_exporter": "python",
   "pygments_lexer": "ipython3",
   "version": "3.7.6"
  }
 },
 "nbformat": 4,
 "nbformat_minor": 4
}
