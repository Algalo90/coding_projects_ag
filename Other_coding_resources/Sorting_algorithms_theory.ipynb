{
 "cells": [
  {
   "cell_type": "markdown",
   "metadata": {},
   "source": [
    "### Sorting algorithms:\n",
    "\n",
    "Functions that take an unsorted array of numbers and return an array of equal length and values but following some sort of order.\n",
    "\n",
    "The time complexity of such algorithms will be expressed in terms of big O notation:\n",
    "\n",
    "![title](big_o.jpeg)\n",
    "\n",
    "- Stable vs unstable algorithms: Stable ones will leave equal elements in the same order they where in the input array\n",
    "\n",
    "- The algorithms:\n",
    "    - Simpler but less time-efficient:\n",
    "        - Bubble sort\n",
    "        - Selection sort\n",
    "        - Insertion sort\n",
    "    - More complicated to understand and implement but faster:\n",
    "        - Merge sort\n",
    "        - Quicksort\n",
    "        - Heap Sort\n",
    "        \n",
    "        \n",
    "    \n",
    "Source: https://medium.com/jl-codes/understanding-sorting-algorithms-af6222995c8"
   ]
  },
  {
   "cell_type": "markdown",
   "metadata": {},
   "source": [
    "#### Bubble Sort:\n",
    "\n",
    "Cycles through the array looking at each pair of numbers. Places the lower on the left and the higher on the right. \n",
    "- Slow algorithm: Worst case scenario O(n<sup>2</sup>)\n",
    "- Not used nowadays, only for arrays that are half-way sorted\n",
    "- In-place algorithm, it does not take much extra memory space.\n",
    "- As with every outer loop, the inner loop ends closer to the beginning of the array, the higher numbers get placed first."
   ]
  },
  {
   "cell_type": "code",
   "execution_count": 36,
   "metadata": {},
   "outputs": [],
   "source": [
    "# Bubble sort implementation in Python 3:\n",
    "\n",
    "def BubbleSort(arr):\n",
    "    n = len(arr)\n",
    "    \n",
    "    for i in range(n-1): #also works with range(n) but does an extra loop\n",
    "        for j in range(n-i-1):\n",
    "            # print(i, arr[i],j, arr[j], arr[j+1]) # for checks only\n",
    "            if arr[j]>arr[j+1]:\n",
    "                arr[j], arr[j+1] = arr[j+1], arr[j]\n",
    "    return arr\n",
    "\n",
    "arr = [64, 34, 25, 12, 22,11, 90] \n",
    "\n",
    "\n",
    "\n"
   ]
  },
  {
   "cell_type": "code",
   "execution_count": 17,
   "metadata": {},
   "outputs": [
    {
     "data": {
      "text/plain": [
       "[11, 12, 22, 25, 34, 64, 90]"
      ]
     },
     "execution_count": 17,
     "metadata": {},
     "output_type": "execute_result"
    }
   ],
   "source": [
    "BubbleSort(arr)"
   ]
  },
  {
   "cell_type": "markdown",
   "metadata": {},
   "source": [
    "#### Selection Sort:\n",
    "\n",
    "Selection sort splits the input array between two parts. The sorted part (an array of numbers being built from smallest to largest), and the remainder numbers, that have yet to be sorted. At the beginning of the loop, the sorted part will be empty and the unsorted will be the entire input list.\n",
    "\n",
    "Selection sort finds the smallest element in the unsorted list and places it at the end of the sorted list.\n",
    "At any given time, the smallest element of the unsorted list is the next largest element of the sorted list.\n",
    "\n",
    "- Again, is a not very effective way of sorting large arrays. O(n<sup>2</sup>)\n",
    "- Slightly outperforms bubble sort, but still nothing to write home about.\n",
    "- In-place algorithm\n"
   ]
  },
  {
   "cell_type": "code",
   "execution_count": 22,
   "metadata": {},
   "outputs": [],
   "source": [
    "# Selection sort implementation in Python 3:\n",
    "\n",
    "def SelectionSort(arr):\n",
    "    n = len(arr)\n",
    "    \n",
    "    for i in range(n-1):\n",
    "        min_idx = i\n",
    "        for j in range(i+1,n-1):\n",
    "            # print(i, arr[i],j, arr[j], arr[j+1]) # for checks onl            \n",
    "            if arr[j] < arr[min_idx]:\n",
    "                min_idx = j\n",
    "        arr[i], arr[min_idx] = arr[min_idx], arr[i]\n",
    "    return arr\n"
   ]
  },
  {
   "cell_type": "code",
   "execution_count": 23,
   "metadata": {},
   "outputs": [
    {
     "data": {
      "text/plain": [
       "[11, 12, 22, 25, 34, 64, 90]"
      ]
     },
     "execution_count": 23,
     "metadata": {},
     "output_type": "execute_result"
    }
   ],
   "source": [
    "SelectionSort(arr)"
   ]
  },
  {
   "cell_type": "markdown",
   "metadata": {},
   "source": [
    "#### Insertion Sort:\n",
    "\n",
    "Insertion sort also works with two sub-arrays, the sorted one and the unsorted one. The algorithm takes one element from the unsorted array at a time and iterates over the sorted array to check where the new element should be inserted.\n",
    "\n",
    "- It is also a not very efficient algorithm: O(n<sup>2</sup>)\n",
    "- Compared to the other two simple sorting algorithms (Bubble and Selection) has some strengths:\n",
    "    - Adaptive: efficiently sorts data that is already generally sorted\n",
    "    - Stable: does not change the order of ‘like’ elements in the array\n",
    "    - Online: can sort the array as it receives new items\n",
    "    - In-place: requires a consistent, small amount of memory to run\n",
    "    - Simple Implementation: not a lot of code needed for the algorithm\n",
    "\n"
   ]
  },
  {
   "cell_type": "code",
   "execution_count": 1,
   "metadata": {},
   "outputs": [],
   "source": [
    "# Insertion sort implementation in Python 3:\n",
    "\n",
    "def InsertionSort(arr):\n",
    "    \n",
    "    n = len(arr)\n",
    "    \n",
    "    for i in range(1, n):\n",
    "        current_val = arr[i]\n",
    "        current_pos = i\n",
    "        \n",
    "        while current_pos > 0 and arr[current_pos -1] > current_val:\n",
    "            arr[current_pos] = arr[current_pos - 1]\n",
    "            current_pos = current_pos -1\n",
    "        arr[current_pos] = current_val\n",
    "    return arr"
   ]
  },
  {
   "cell_type": "markdown",
   "metadata": {},
   "source": [
    "#### Merge Sort:\n",
    "\n",
    "Divide and conquer algorithm. Divides the initial array into two halves that will also be recursively halved until only pairs are left. Once pairs are left, it orders the pair and merges the pair with its next pair in a sorted fashion.\n",
    "\n",
    "- VariabletTime complexity: Best case scenario -O(n log n) / Worst case scenario O(n\n",
    "- Stable\n",
    "- Not InPlace\n",
    "\n"
   ]
  },
  {
   "cell_type": "code",
   "execution_count": 53,
   "metadata": {},
   "outputs": [],
   "source": [
    "# MergeSort implementation in Python 3:\n",
    "\n",
    "def MergeSort_1(arr):\n",
    "    if len(arr) > 1:\n",
    "        midpoint = len(arr) // 2\n",
    "        L = arr[:midpoint]\n",
    "        R = arr[midpoint:]\n",
    "        \n",
    "        print('left array is: {} and right array is {}'.format(L,R))\n",
    "        \n",
    "        MergeSort_1(L)\n",
    "        MergeSort_1(R)\n",
    "# Up to here, the function splits the array in two until two single numbers are left to begin with the sorting (len(L) == 1 and len len(R) == 1)\n",
    "# It is important to note how the recurssion has been ordered, first comes MergeSort_1(L) so, recursion goes always to the left (see figure)\n",
    "        i = j = k = 0\n",
    "\n",
    "        while i < len(L) and j < len(R):\n",
    "            print(i, j, k, L[i], R[j])\n",
    "            if L[i] < R[j]:\n",
    "                arr[k] = L[i]\n",
    "                i += 1\n",
    "            else:\n",
    "                arr[k] = R[j]\n",
    "                j += 1\n",
    "            k += 1\n",
    "            print(i, j, k)\n",
    "            \n",
    "        print('Temporary final array is: ',arr)\n",
    "        \n",
    "        while i < len(L):\n",
    "            arr[k] = L[i]\n",
    "            i += 1\n",
    "            k += 1\n",
    "        while j < len(R):\n",
    "            arr[k] = R[j]\n",
    "            j += 1\n",
    "            k += 1\n",
    "            \n",
    "        print('Temporary final array 2 is: ',arr)"
   ]
  },
  {
   "cell_type": "markdown",
   "metadata": {},
   "source": [
    "![title](esquema_recursion_merge0.jpg)"
   ]
  },
  {
   "cell_type": "markdown",
   "metadata": {},
   "source": [
    "#### Quick Sort:\n",
    "\n",
    "Another divide and conquer algorithm. It creates 2 arrays, one to store the values greater that the pivot number and another one to store the lesser ones. \n",
    "\n",
    "- Variable time complexity: Worst case scenario (unlikely) -O(n log n) / Best case scenario - O(n<sup>2</sup>)\n",
    "- Unstable\n",
    "- In-Place or not\n",
    "\n"
   ]
  },
  {
   "cell_type": "code",
   "execution_count": 34,
   "metadata": {},
   "outputs": [],
   "source": [
    "# Quick Sort (not in-place) implementation in Python 3:\n",
    "import random\n",
    "\n",
    "def QuickSort(arr):\n",
    "    length = len(arr)\n",
    "    \n",
    "    if length <= 1:\n",
    "        return arr\n",
    "    else:\n",
    "        pivot = arr.pop()\n",
    "        \n",
    "    left_arr = []\n",
    "    right_arr = []\n",
    "    \n",
    "    for item in arr:\n",
    "        if item > pivot:\n",
    "            right_arr.append(item)\n",
    "        else:\n",
    "            left_arr.append(item)\n",
    "        \n",
    "    return QuickSort(left_arr) + [pivot] + QuickSort(right_arr)\n",
    "    \n",
    "# Quick Sort (in-place) implementation in Python 3:\n",
    "\n",
    "def partition(arr, low, high): #low and high are integer indexes of the array\n",
    "    i = low - 1 #element left to the lower point\n",
    "    pivot = arr[high]\n",
    "    for j in range(low,high):\n",
    "        if arr[j] <= pivot:\n",
    "            i += 1\n",
    "            arr[i],arr[j] = arr[j],arr[i]\n",
    "    arr[i+1], arr[high] = arr[high], arr[i+1]\n",
    "    return i+1            \n",
    "\n",
    "def quick_sort(arr, low=0, high=None):\n",
    "    if high==None:\n",
    "        high = len(arr) - 1\n",
    "        \n",
    "    if low<high:\n",
    "        pivot_idx = partition(arr, low, high) #partition around the pivot\n",
    "        quick_sort(arr, low, pivot_idx-1)\n",
    "        quick_sort(arr,pivot_idx+1, high)\n",
    "        \n",
    "   "
   ]
  },
  {
   "cell_type": "code",
   "execution_count": 37,
   "metadata": {},
   "outputs": [
    {
     "data": {
      "text/plain": [
       "[11, 12, 22, 25, 34, 64, 90]"
      ]
     },
     "execution_count": 37,
     "metadata": {},
     "output_type": "execute_result"
    }
   ],
   "source": [
    "QuickSort(arr)"
   ]
  },
  {
   "cell_type": "markdown",
   "metadata": {},
   "source": [
    "#### Heap Sort:\n",
    "\n",
    "Comparison based sorting algorithm. A heap is an ordered binary tree. Max heap: parent > child. Based on a binary tree in which each parent is greater than their children. When that is not the case, you swap the values of the parent with that of its greatest child. When you find the root of the tree (the max number), you place it at the end of the array.\n",
    "\n",
    "- Time efficient: O(n log n)\n",
    "- Unstable\n",
    "- In-Place or not"
   ]
  },
  {
   "cell_type": "code",
   "execution_count": null,
   "metadata": {},
   "outputs": [],
   "source": [
    "# Heap Sort implementation in Python 3:\n",
    "\n",
    "def heapify(arr, n, i): \n",
    "    largest = i\n",
    "    l = 2 * i + 1\n",
    "    r = 2 * i + 2\n",
    "    \n",
    "    if l < n and arr[i] < arr[l]:\n",
    "        largest = l\n",
    "        \n",
    "    if r < n and arr[largest] < arr[r]:\n",
    "        largest = r\n",
    "        \n",
    "    if largest != i:\n",
    "        arr[i], arr[largest] = arr[largest], arr[i]\n",
    "        heapify(arr, n , largest)\n",
    "        \n",
    "def HeapSort(arr):\n",
    "    n = len(arr)\n",
    "    for i in range(n, -1, -1):\n",
    "        heapify(arr, n, i)\n",
    "        \n",
    "    for in in range(n-1, 0, -1):\n",
    "        arr[i], arr[0] = arr[0], arr[i]\n",
    "        heapify(arr, i, 0)"
   ]
  }
 ],
 "metadata": {
  "kernelspec": {
   "display_name": "Python 3",
   "language": "python",
   "name": "python3"
  },
  "language_info": {
   "codemirror_mode": {
    "name": "ipython",
    "version": 3
   },
   "file_extension": ".py",
   "mimetype": "text/x-python",
   "name": "python",
   "nbconvert_exporter": "python",
   "pygments_lexer": "ipython3",
   "version": "3.7.4"
  }
 },
 "nbformat": 4,
 "nbformat_minor": 4
}
