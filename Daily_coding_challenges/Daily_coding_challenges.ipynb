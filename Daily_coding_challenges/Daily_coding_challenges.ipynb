{
 "cells": [
  {
   "cell_type": "markdown",
   "metadata": {},
   "source": [
    "Good morning! Here's your coding interview problem for today.\n",
    "\n",
    "This problem was recently asked by Google.\n",
    "\n",
    "Given a list of numbers and a number k, return whether any two numbers from the list add up to k.\n",
    "\n",
    "For example, given [10, 15, 3, 7] and k of 17, return true since 10 + 7 is 17.\n",
    "\n",
    "Bonus: Can you do this in one pass?\n"
   ]
  },
  {
   "cell_type": "code",
   "execution_count": 12,
   "metadata": {},
   "outputs": [],
   "source": [
    "def sum_find(num_list: list, target_num: int)->bool:\n",
    "    for i, num in enumerate(num_list):\n",
    "        remainder = target_num - num\n",
    "        if remainder in num_list[i+1:]:\n",
    "            return True\n",
    "    return False"
   ]
  },
  {
   "cell_type": "code",
   "execution_count": 17,
   "metadata": {},
   "outputs": [
    {
     "data": {
      "text/plain": [
       "False"
      ]
     },
     "execution_count": 17,
     "metadata": {},
     "output_type": "execute_result"
    }
   ],
   "source": [
    "lista = [5, 13, 0 , 6, 9, 2]\n",
    "numero = 10\n",
    "\n",
    "sum_find(lista, numero)"
   ]
  },
  {
   "cell_type": "code",
   "execution_count": 25,
   "metadata": {},
   "outputs": [
    {
     "data": {
      "text/plain": [
       "False"
      ]
     },
     "execution_count": 25,
     "metadata": {},
     "output_type": "execute_result"
    }
   ],
   "source": [
    "# Elegant solution from StackOverflow:\n",
    "numbers = [2,3,7,10,13,17,21] \n",
    "k = 17\n",
    "\n",
    "num_set = set(numbers)\n",
    "any(k - e in num_set for e in numbers) \n",
    "\n",
    "# any/all are built-in fuctions which are faster as they run on C code\n",
    "\n"
   ]
  },
  {
   "cell_type": "markdown",
   "metadata": {},
   "source": [
    "\n",
    "Good morning! Here's your coding interview problem for today.\n",
    "\n",
    "This problem was asked by Uber.\n",
    "\n",
    "Given an array of integers, return a new array such that each element at index i of the new array is the product of all the numbers in the original array except the one at i.\n",
    "\n",
    "For example, if our input was [1, 2, 3, 4, 5], the expected output would be [120, 60, 40, 30, 24]. If our input was [3, 2, 1], the expected output would be [2, 3, 6].\n",
    "\n",
    "Follow-up: what if you can't use division?"
   ]
  },
  {
   "cell_type": "code",
   "execution_count": 11,
   "metadata": {},
   "outputs": [],
   "source": [
    "import numpy as np\n",
    "\n",
    "input_list = [1, 2, 3, 4, 5]\n",
    "\n",
    "def products(og_list: list)->list:\n",
    "    output = []\n",
    "    \n",
    "    for i, num in enumerate(og_list):\n",
    "        list_clone = list(og_list) # list_clone = og_list only copies the reference to the list, not the list itself\n",
    "        list_clone.pop(i)\n",
    "        output.append(np.prod(list_clone))\n",
    "    return output\n",
    "        "
   ]
  },
  {
   "cell_type": "code",
   "execution_count": 12,
   "metadata": {},
   "outputs": [
    {
     "data": {
      "text/plain": [
       "[120, 60, 40, 30, 24]"
      ]
     },
     "execution_count": 12,
     "metadata": {},
     "output_type": "execute_result"
    }
   ],
   "source": [
    "products(input_list)"
   ]
  },
  {
   "cell_type": "markdown",
   "metadata": {},
   "source": [
    "Good morning! Here's your coding interview problem for today.\n",
    "\n",
    "This problem was asked by Google.\n",
    "\n",
    "Given the root to a binary tree, implement serialize(root), which serializes the tree into a string, and deserialize(s), which deserializes the string back into the tree.\n",
    "\n",
    "For example, given the following Node class\n",
    "\n",
    "    class Node:\n",
    "        def __init__(self, val, left=None, right=None):\n",
    "            self.val = val\n",
    "            self.left = left\n",
    "            self.right = right\n",
    "The following test should pass:\n",
    "\n",
    "    node = Node('root', Node('left', Node('left.left')), Node('right'))\n",
    "    assert deserialize(serialize(node)).left.left.val == 'left.left'"
   ]
  },
  {
   "cell_type": "code",
   "execution_count": null,
   "metadata": {},
   "outputs": [
    {
     "name": "stdout",
     "output_type": "stream",
     "text": [
      "---Menu---\n",
      "1. Agregar\n",
      "2. Preorden\n",
      "3. Postorden\n",
      "4. Inorden\n",
      "\n",
      "Ingrese la opcion: 1\n",
      "Ingrese el nombre: Jonathan\n",
      "Ingrese la cedula: 5\n",
      "---Menu---\n",
      "1. Agregar\n",
      "2. Preorden\n",
      "3. Postorden\n",
      "4. Inorden\n",
      "\n",
      "Ingrese la opcion: 1\n",
      "Ingrese el nombre: Sara\n",
      "Ingrese la cedula: 10\n",
      "---Menu---\n",
      "1. Agregar\n",
      "2. Preorden\n",
      "3. Postorden\n",
      "4. Inorden\n",
      "\n",
      "Ingrese la opcion: 1\n",
      "Ingrese el nombre: Juan\n",
      "Ingrese la cedula: 3\n",
      "---Menu---\n",
      "1. Agregar\n",
      "2. Preorden\n",
      "3. Postorden\n",
      "4. Inorden\n",
      "\n",
      "Ingrese la opcion: 2\n",
      "Imprimiento por Preorden\n",
      "Jonathan 5\n",
      "Juan 3\n",
      "Sara 10\n",
      "---Menu---\n",
      "1. Agregar\n",
      "2. Preorden\n",
      "3. Postorden\n",
      "4. Inorden\n",
      "\n"
     ]
    }
   ],
   "source": [
    "class Nodo:\n",
    "    def __init__(self, nombre=None, cedula=None, izq=None, der=None):\n",
    "        self.nombre = nombre\n",
    "        self.cedula = cedula\n",
    "        self.izq = izq\n",
    "        self.der = der\n",
    "        \n",
    "    def __str__(self):\n",
    "        return \"%s %s\" %(self.nombre, self.cedula)\n",
    "    \n",
    "        \n",
    "class aBinarios:\n",
    "    def __init__(self):\n",
    "        self.raiz = None\n",
    "        \n",
    "    def agregar(self, elemento:Nodo):\n",
    "        # el primer elemento en llegar es nuestra raíz y, de ahí en adelante, cada elemento tiene que ser analizado y comparado\n",
    "        # Si el elemento que agregamos es mayor o igual al padre, el elemento irá a la derecha\n",
    "        # Si el elemento que agregamos es menor al padre (o la raíz o el ultimo elemento), irá a la izquierda\n",
    "        if self.raiz is None:\n",
    "            self.raiz = elemento\n",
    "        else:\n",
    "            aux = self.raiz\n",
    "            padre = None\n",
    "            while aux is not None:\n",
    "                padre = aux\n",
    "                if int(elemento.cedula) >= int(aux.cedula):\n",
    "                    aux = aux.der\n",
    "                else:\n",
    "                    aux = aux.izq\n",
    "            if int(elemento.cedula) >= int(padre.cedula):\n",
    "                padre.der = elemento\n",
    "            else:\n",
    "                padre.izq = elemento\n",
    "                \n",
    "    def preorden(self, elemento: Nodo):\n",
    "        if elemento is not None:\n",
    "            print(elemento)\n",
    "            self.preorden(elemento.izq)\n",
    "            self.preorden(elemento.der)\n",
    "            \n",
    "    def postorden(self, elemento: Nodo):\n",
    "        if elemento is not None:\n",
    "            self.preorden(elemento.izq)\n",
    "            self.preorden(elemento.der)\n",
    "            print(elemento)\n",
    "            \n",
    "    def inorden(self, elemento:Nodo):\n",
    "        if elemento is not None:\n",
    "            self.preorden(elemento.izq)            \n",
    "            print(elemento)\n",
    "            self.preorden(elemento.der)\n",
    "            \n",
    "    def getRaiz(self):\n",
    "        return self.raiz\n",
    "          \n",
    "            \n",
    "        \n",
    "        \n",
    "if __name__ == \"__main__\":\n",
    "        \n",
    "    ab = aBinarios()\n",
    "        \n",
    "    while(True):\n",
    "        print(\"---Menu---\\n\"+\n",
    "             \"1. Agregar\\n\"+\n",
    "             \"2. Preorden\\n\"+\n",
    "             \"3. Postorden\\n\"+\n",
    "             \"4. Inorden\\n\")\n",
    "        num = input(\"Ingrese la opcion: \")\n",
    "        if num == \"1\":\n",
    "            nombre = input(\"Ingrese el nombre: \")\n",
    "            cedula = input(\"Ingrese la cedula: \")\n",
    "            nod = Nodo(nombre, cedula)\n",
    "            ab.agregar(nod)\n",
    "        elif num == \"2\":\n",
    "            print(\"Imprimiento por Preorden\")\n",
    "            ab.preorden(ab.getRaiz())\n",
    "        elif num == \"3\":\n",
    "            print(\"Imprimiento por Postorden\")\n",
    "            ab.postorden(ab.getRaiz())\n",
    "        elif num == \"4\":\n",
    "            print(\"Imprimiento por inorden\")\n",
    "            ab.inorden(ab.getRaiz())\n",
    "\n"
   ]
  },
  {
   "cell_type": "code",
   "execution_count": 21,
   "metadata": {},
   "outputs": [],
   "source": [
    "class Node(object):\n",
    "    def __init__(self, val, left=None, right=None):\n",
    "        self.val = val\n",
    "        self.left = left\n",
    "        self.right = right\n",
    "        \n",
    "class bTree(object):\n",
    "    \n",
    "    def __init__(self, root):\n",
    "        self.root = Node(root)\n",
    "          \n",
    "            \n",
    "\n",
    "# root of the tree  \n",
    "tree = bTree(1)\n",
    "# filling in with children\n",
    "tree.root.left = Node(2) \n",
    "tree.root.right = Node(5)\n",
    "tree.root.left.left = Node(7)\n",
    "tree.root.left.right = Node(6)\n",
    "\n",
    "#      1\n",
    "#    /   \\\n",
    "#   2     5\n",
    "#  / \\\n",
    "# 7   6\n",
    "\n",
    "\n",
    "\n",
    "\n",
    "        \n",
    "        "
   ]
  },
  {
   "cell_type": "code",
   "execution_count": 32,
   "metadata": {},
   "outputs": [],
   "source": [
    "class TreeNode(object):\n",
    "    def __init__(self, val, left=None, right=None):\n",
    "        self.val = val\n",
    "        self.left = left\n",
    "        self.right = right\n",
    "        \n",
    "class Codec:\n",
    "    \n",
    "    def serialize(self, root):\n",
    "        '''Encodes a binary tree to a string\n",
    "        \n",
    "        :type root: TreeNode\n",
    "        :rtype: str\n",
    "        '''\n",
    "        \n",
    "        \n",
    "        def traverse(node):\n",
    "            if node:\n",
    "                temp_vals.append(str(node))\n",
    "                traverse(node.left)\n",
    "                traverse(node.right)\n",
    "            else:\n",
    "                temp_vals.append('_')\n",
    "            \n",
    "        temp_vals = []\n",
    "        traverse(root)\n",
    "        return ' '.join(temp_vals)\n",
    "        \n",
    "    def deserialize(self, data):\n",
    "        '''Decodes encoded data into binary tree\n",
    "        \n",
    "        :type data: str\n",
    "        :rtype: TreeNode\n",
    "        '''\n",
    "        def build():\n",
    "            val = next(temp_vals)\n",
    "            if val == '_':\n",
    "                return None\n",
    "                        \n",
    "            node = TreeNode(int(val))\n",
    "            node.left = build()\n",
    "            node.right = build()\n",
    "            return node\n",
    "            \n",
    "        temp_vals = iter(data.split())\n",
    "        return build()\n",
    "# A codec object will be instantiated and called as such:\n",
    "# codec = Codec()\n",
    "# codec.deserialize(codec.serialize(root))\n",
    "    \n",
    "# https://treyhunner.com/2016/12/python-iterator-protocol-how-for-loops-work/"
   ]
  },
  {
   "cell_type": "code",
   "execution_count": 33,
   "metadata": {},
   "outputs": [],
   "source": [
    "tree = TreeNode(3)\n",
    "tree.left = TreeNode(2) \n",
    "tree.right = TreeNode(5)\n",
    "tree.left.left = TreeNode(7)\n",
    "tree.left.right = TreeNode(6)\n",
    "\n",
    "codec = Codec()\n"
   ]
  },
  {
   "cell_type": "markdown",
   "metadata": {},
   "source": [
    "Good morning! Here's your coding interview problem for today.\n",
    "\n",
    "This problem was asked by Stripe.\n",
    "\n",
    "Given an array of integers, find the first missing positive integer in linear time and constant space. In other words, find the lowest positive integer that does not exist in the array. The array can contain duplicates and negative numbers as well.\n",
    "\n",
    "For example, the input [3, 4, -1, 1] should give 2. The input [1, 2, 0] should give 3.\n",
    "\n",
    "You can modify the input array in-place."
   ]
  },
  {
   "cell_type": "code",
   "execution_count": 12,
   "metadata": {},
   "outputs": [],
   "source": [
    "example = [3, 4, -1, 1, 2, 6, 7, 5,-3, 8, 9]\n",
    "\n",
    "def mis_pos_int(array)-> int:\n",
    "    set_ = set(array)    \n",
    "    n = 1\n",
    "    while n in set_:\n",
    "        n += 1\n",
    "        \n",
    "    return n \n",
    "            \n",
    "        \n",
    "\n",
    "\n",
    "    \n"
   ]
  },
  {
   "cell_type": "markdown",
   "metadata": {},
   "source": [
    "Good morning! Here's your coding interview problem for today.\n",
    "\n",
    "This problem was asked by Jane Street.\n",
    "\n",
    "cons(a, b) constructs a pair, and car(pair) and cdr(pair) returns the first and last element of that pair. For example, car(cons(3, 4)) returns 3, and cdr(cons(3, 4)) returns 4.\n",
    "\n",
    "Given this implementation of cons:\n",
    "\n",
    "def cons(a, b):\n",
    "    def pair(f):\n",
    "        return f(a, b)\n",
    "    return pair\n",
    "Implement car and cdr."
   ]
  },
  {
   "cell_type": "code",
   "execution_count": null,
   "metadata": {},
   "outputs": [],
   "source": [
    "def cons(a, b):\n",
    "    def pair(f):\n",
    "        return f(a, b)  \n",
    "\n",
    "    return pair\n",
    "\n",
    "def pair(f):\n",
    "        return f(a, b)"
   ]
  },
  {
   "cell_type": "code",
   "execution_count": null,
   "metadata": {},
   "outputs": [],
   "source": [
    "def car(f)-> int:\n",
    "     return f(lambda a, b: a)\n",
    "\n",
    "def cdr(f)-> int:\n",
    "    return f(lambda a, b: b)\n",
    "\n",
    "car(cons(3,4))"
   ]
  },
  {
   "cell_type": "code",
   "execution_count": null,
   "metadata": {},
   "outputs": [],
   "source": [
    "def func(x, y):\n",
    "    return x*y"
   ]
  },
  {
   "cell_type": "code",
   "execution_count": null,
   "metadata": {},
   "outputs": [],
   "source": [
    "a = 1\n",
    "b = 3\n",
    "def execute_operation(operation):\n",
    "        return operation(a, b)\n",
    "    \n",
    "def suma(a, b):\n",
    "    return a + b\n",
    "def multi(a,b):\n",
    "    return a*b"
   ]
  },
  {
   "cell_type": "code",
   "execution_count": null,
   "metadata": {},
   "outputs": [],
   "source": [
    "execute_operation(suma)"
   ]
  },
  {
   "cell_type": "code",
   "execution_count": null,
   "metadata": {},
   "outputs": [],
   "source": [
    "execute_operation(multi)"
   ]
  },
  {
   "cell_type": "code",
   "execution_count": null,
   "metadata": {},
   "outputs": [],
   "source": [
    "def car(f):\n",
    "    def pair(f):\n",
    "        return f(a, b) \n",
    "\n",
    "    return pair\n",
    "\n",
    "\n",
    "\n",
    "def car(pair):\n",
    "    def f(a,b):\n",
    "        return a\n",
    "    \n",
    "def first(a,b):\n",
    "    return a\n",
    "\n"
   ]
  },
  {
   "cell_type": "code",
   "execution_count": null,
   "metadata": {},
   "outputs": [],
   "source": [
    "cons(3,4)(first)"
   ]
  },
  {
   "cell_type": "code",
   "execution_count": null,
   "metadata": {},
   "outputs": [],
   "source": [
    "def car(pair):\n",
    "    A = lambda a,b: a\n",
    "    return pair(A)\n",
    "\n",
    "def cdr(pair):\n",
    "    B = lambda a,b: b\n",
    "    return pair(B)"
   ]
  }
 ],
 "metadata": {
  "kernelspec": {
   "display_name": "Python 3",
   "language": "python",
   "name": "python3"
  },
  "language_info": {
   "codemirror_mode": {
    "name": "ipython",
    "version": 3
   },
   "file_extension": ".py",
   "mimetype": "text/x-python",
   "name": "python",
   "nbconvert_exporter": "python",
   "pygments_lexer": "ipython3",
   "version": "3.7.6"
  }
 },
 "nbformat": 4,
 "nbformat_minor": 4
}
