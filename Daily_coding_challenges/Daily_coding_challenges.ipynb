{
 "cells": [
  {
   "cell_type": "markdown",
   "metadata": {},
   "source": [
    "Good morning! Here's your coding interview problem for today.\n",
    "\n",
    "This problem was recently asked by Google.\n",
    "\n",
    "Given a list of numbers and a number k, return whether any two numbers from the list add up to k.\n",
    "\n",
    "For example, given [10, 15, 3, 7] and k of 17, return true since 10 + 7 is 17.\n",
    "\n",
    "Bonus: Can you do this in one pass?\n"
   ]
  },
  {
   "cell_type": "code",
   "execution_count": 12,
   "metadata": {},
   "outputs": [],
   "source": [
    "def sum_find(num_list: list, target_num: int)->bool:\n",
    "    for i, num in enumerate(num_list):\n",
    "        remainder = target_num - num\n",
    "        if remainder in num_list[i+1:]:\n",
    "            return True\n",
    "    return False"
   ]
  },
  {
   "cell_type": "code",
   "execution_count": 17,
   "metadata": {},
   "outputs": [
    {
     "data": {
      "text/plain": [
       "False"
      ]
     },
     "execution_count": 17,
     "metadata": {},
     "output_type": "execute_result"
    }
   ],
   "source": [
    "lista = [5, 13, 0 , 6, 9, 2]\n",
    "numero = 10\n",
    "\n",
    "sum_find(lista, numero)"
   ]
  },
  {
   "cell_type": "code",
   "execution_count": 25,
   "metadata": {},
   "outputs": [
    {
     "data": {
      "text/plain": [
       "False"
      ]
     },
     "execution_count": 25,
     "metadata": {},
     "output_type": "execute_result"
    }
   ],
   "source": [
    "# Elegant solution from StackOverflow:\n",
    "numbers = [2,3,7,10,13,17,21] \n",
    "k = 17\n",
    "\n",
    "num_set = set(numbers)\n",
    "any(k - e in num_set for e in numbers) \n",
    "\n",
    "# any/all are built-in fuctions which are faster as they run on C code\n",
    "\n"
   ]
  },
  {
   "cell_type": "markdown",
   "metadata": {},
   "source": [
    "\n",
    "Good morning! Here's your coding interview problem for today.\n",
    "\n",
    "This problem was asked by Uber.\n",
    "\n",
    "Given an array of integers, return a new array such that each element at index i of the new array is the product of all the numbers in the original array except the one at i.\n",
    "\n",
    "For example, if our input was [1, 2, 3, 4, 5], the expected output would be [120, 60, 40, 30, 24]. If our input was [3, 2, 1], the expected output would be [2, 3, 6].\n",
    "\n",
    "Follow-up: what if you can't use division?"
   ]
  },
  {
   "cell_type": "code",
   "execution_count": 11,
   "metadata": {},
   "outputs": [],
   "source": [
    "import numpy as np\n",
    "\n",
    "input_list = [1, 2, 3, 4, 5]\n",
    "\n",
    "def products(og_list: list)->list:\n",
    "    output = []\n",
    "    \n",
    "    for i, num in enumerate(og_list):\n",
    "        list_clone = list(og_list) # list_clone = og_list only copies the reference to the list, not the list itself\n",
    "        list_clone.pop(i)\n",
    "        output.append(np.prod(list_clone))\n",
    "    return output\n",
    "        "
   ]
  },
  {
   "cell_type": "code",
   "execution_count": 12,
   "metadata": {},
   "outputs": [
    {
     "data": {
      "text/plain": [
       "[120, 60, 40, 30, 24]"
      ]
     },
     "execution_count": 12,
     "metadata": {},
     "output_type": "execute_result"
    }
   ],
   "source": [
    "products(input_list)"
   ]
  },
  {
   "cell_type": "markdown",
   "metadata": {},
   "source": [
    "Good morning! Here's your coding interview problem for today.\n",
    "\n",
    "This problem was asked by Google.\n",
    "\n",
    "Given the root to a binary tree, implement serialize(root), which serializes the tree into a string, and deserialize(s), which deserializes the string back into the tree.\n",
    "\n",
    "For example, given the following Node class\n",
    "\n",
    "    class Node:\n",
    "        def __init__(self, val, left=None, right=None):\n",
    "            self.val = val\n",
    "            self.left = left\n",
    "            self.right = right\n",
    "The following test should pass:\n",
    "\n",
    "    node = Node('root', Node('left', Node('left.left')), Node('right'))\n",
    "    assert deserialize(serialize(node)).left.left.val == 'left.left'"
   ]
  },
  {
   "cell_type": "code",
   "execution_count": null,
   "metadata": {},
   "outputs": [
    {
     "name": "stdout",
     "output_type": "stream",
     "text": [
      "---Menu---\n",
      "1. Agregar\n",
      "2. Preorden\n",
      "3. Postorden\n",
      "4. Inorden\n",
      "\n",
      "Ingrese la opcion: 1\n",
      "Ingrese el nombre: Jonathan\n",
      "Ingrese la cedula: 5\n",
      "---Menu---\n",
      "1. Agregar\n",
      "2. Preorden\n",
      "3. Postorden\n",
      "4. Inorden\n",
      "\n",
      "Ingrese la opcion: 1\n",
      "Ingrese el nombre: Sara\n",
      "Ingrese la cedula: 10\n",
      "---Menu---\n",
      "1. Agregar\n",
      "2. Preorden\n",
      "3. Postorden\n",
      "4. Inorden\n",
      "\n",
      "Ingrese la opcion: 1\n",
      "Ingrese el nombre: Juan\n",
      "Ingrese la cedula: 3\n",
      "---Menu---\n",
      "1. Agregar\n",
      "2. Preorden\n",
      "3. Postorden\n",
      "4. Inorden\n",
      "\n",
      "Ingrese la opcion: 2\n",
      "Imprimiento por Preorden\n",
      "Jonathan 5\n",
      "Juan 3\n",
      "Sara 10\n",
      "---Menu---\n",
      "1. Agregar\n",
      "2. Preorden\n",
      "3. Postorden\n",
      "4. Inorden\n",
      "\n"
     ]
    }
   ],
   "source": [
    "class Nodo:\n",
    "    def __init__(self, nombre=None, cedula=None, izq=None, der=None):\n",
    "        self.nombre = nombre\n",
    "        self.cedula = cedula\n",
    "        self.izq = izq\n",
    "        self.der = der\n",
    "        \n",
    "    def __str__(self):\n",
    "        return \"%s %s\" %(self.nombre, self.cedula)\n",
    "    \n",
    "        \n",
    "class aBinarios:\n",
    "    def __init__(self):\n",
    "        self.raiz = None\n",
    "        \n",
    "    def agregar(self, elemento:Nodo):\n",
    "        # el primer elemento en llegar es nuestra raíz y, de ahí en adelante, cada elemento tiene que ser analizado y comparado\n",
    "        # Si el elemento que agregamos es mayor o igual al padre, el elemento irá a la derecha\n",
    "        # Si el elemento que agregamos es menor al padre (o la raíz o el ultimo elemento), irá a la izquierda\n",
    "        if self.raiz is None:\n",
    "            self.raiz = elemento\n",
    "        else:\n",
    "            aux = self.raiz\n",
    "            padre = None\n",
    "            while aux is not None:\n",
    "                padre = aux\n",
    "                if int(elemento.cedula) >= int(aux.cedula):\n",
    "                    aux = aux.der\n",
    "                else:\n",
    "                    aux = aux.izq\n",
    "            if int(elemento.cedula) >= int(padre.cedula):\n",
    "                padre.der = elemento\n",
    "            else:\n",
    "                padre.izq = elemento\n",
    "                \n",
    "    def preorden(self, elemento: Nodo):\n",
    "        if elemento is not None:\n",
    "            print(elemento)\n",
    "            self.preorden(elemento.izq)\n",
    "            self.preorden(elemento.der)\n",
    "            \n",
    "    def postorden(self, elemento: Nodo):\n",
    "        if elemento is not None:\n",
    "            self.preorden(elemento.izq)\n",
    "            self.preorden(elemento.der)\n",
    "            print(elemento)\n",
    "            \n",
    "    def inorden(self, elemento:Nodo):\n",
    "        if elemento is not None:\n",
    "            self.preorden(elemento.izq)            \n",
    "            print(elemento)\n",
    "            self.preorden(elemento.der)\n",
    "            \n",
    "    def getRaiz(self):\n",
    "        return self.raiz\n",
    "          \n",
    "            \n",
    "        \n",
    "        \n",
    "if __name__ == \"__main__\":\n",
    "        \n",
    "    ab = aBinarios()\n",
    "        \n",
    "    while(True):\n",
    "        print(\"---Menu---\\n\"+\n",
    "             \"1. Agregar\\n\"+\n",
    "             \"2. Preorden\\n\"+\n",
    "             \"3. Postorden\\n\"+\n",
    "             \"4. Inorden\\n\")\n",
    "        num = input(\"Ingrese la opcion: \")\n",
    "        if num == \"1\":\n",
    "            nombre = input(\"Ingrese el nombre: \")\n",
    "            cedula = input(\"Ingrese la cedula: \")\n",
    "            nod = Nodo(nombre, cedula)\n",
    "            ab.agregar(nod)\n",
    "        elif num == \"2\":\n",
    "            print(\"Imprimiento por Preorden\")\n",
    "            ab.preorden(ab.getRaiz())\n",
    "        elif num == \"3\":\n",
    "            print(\"Imprimiento por Postorden\")\n",
    "            ab.postorden(ab.getRaiz())\n",
    "        elif num == \"4\":\n",
    "            print(\"Imprimiento por inorden\")\n",
    "            ab.inorden(ab.getRaiz())\n",
    "\n"
   ]
  },
  {
   "cell_type": "code",
   "execution_count": 21,
   "metadata": {},
   "outputs": [],
   "source": [
    "class Node(object):\n",
    "    def __init__(self, val, left=None, right=None):\n",
    "        self.val = val\n",
    "        self.left = left\n",
    "        self.right = right\n",
    "        \n",
    "class bTree(object):\n",
    "    \n",
    "    def __init__(self, root):\n",
    "        self.root = Node(root)\n",
    "          \n",
    "            \n",
    "\n",
    "# root of the tree  \n",
    "tree = bTree(1)\n",
    "# filling in with children\n",
    "tree.root.left = Node(2) \n",
    "tree.root.right = Node(5)\n",
    "tree.root.left.left = Node(7)\n",
    "tree.root.left.right = Node(6)\n",
    "\n",
    "#      1\n",
    "#    /   \\\n",
    "#   2     5\n",
    "#  / \\\n",
    "# 7   6\n",
    "\n",
    "\n",
    "\n",
    "\n",
    "        \n",
    "        "
   ]
  },
  {
   "cell_type": "code",
   "execution_count": 32,
   "metadata": {},
   "outputs": [],
   "source": [
    "class TreeNode(object):\n",
    "    def __init__(self, val, left=None, right=None):\n",
    "        self.val = val\n",
    "        self.left = left\n",
    "        self.right = right\n",
    "        \n",
    "class Codec:\n",
    "    \n",
    "    def serialize(self, root):\n",
    "        '''Encodes a binary tree to a string\n",
    "        \n",
    "        :type root: TreeNode\n",
    "        :rtype: str\n",
    "        '''\n",
    "        \n",
    "        \n",
    "        def traverse(node):\n",
    "            if node:\n",
    "                temp_vals.append(str(node))\n",
    "                traverse(node.left)\n",
    "                traverse(node.right)\n",
    "            else:\n",
    "                temp_vals.append('_')\n",
    "            \n",
    "        temp_vals = []\n",
    "        traverse(root)\n",
    "        return ' '.join(temp_vals)\n",
    "        \n",
    "    def deserialize(self, data):\n",
    "        '''Decodes encoded data into binary tree\n",
    "        \n",
    "        :type data: str\n",
    "        :rtype: TreeNode\n",
    "        '''\n",
    "        def build():\n",
    "            val = next(temp_vals)\n",
    "            if val == '_':\n",
    "                return None\n",
    "                        \n",
    "            node = TreeNode(int(val))\n",
    "            node.left = build()\n",
    "            node.right = build()\n",
    "            return node\n",
    "            \n",
    "        temp_vals = iter(data.split())\n",
    "        return build()\n",
    "# A codec object will be instantiated and called as such:\n",
    "# codec = Codec()\n",
    "# codec.deserialize(codec.serialize(root))\n",
    "    \n",
    "# https://treyhunner.com/2016/12/python-iterator-protocol-how-for-loops-work/"
   ]
  },
  {
   "cell_type": "code",
   "execution_count": 33,
   "metadata": {},
   "outputs": [],
   "source": [
    "tree = TreeNode(3)\n",
    "tree.left = TreeNode(2) \n",
    "tree.right = TreeNode(5)\n",
    "tree.left.left = TreeNode(7)\n",
    "tree.left.right = TreeNode(6)\n",
    "\n",
    "codec = Codec()\n"
   ]
  },
  {
   "cell_type": "markdown",
   "metadata": {},
   "source": [
    "Good morning! Here's your coding interview problem for today.\n",
    "\n",
    "This problem was asked by Stripe.\n",
    "\n",
    "Given an array of integers, find the first missing positive integer in linear time and constant space. In other words, find the lowest positive integer that does not exist in the array. The array can contain duplicates and negative numbers as well.\n",
    "\n",
    "For example, the input [3, 4, -1, 1] should give 2. The input [1, 2, 0] should give 3.\n",
    "\n",
    "You can modify the input array in-place."
   ]
  },
  {
   "cell_type": "code",
   "execution_count": 12,
   "metadata": {},
   "outputs": [],
   "source": [
    "example = [3, 4, -1, 1, 2, 6, 7, 5,-3, 8, 9]\n",
    "\n",
    "def mis_pos_int(array)-> int:\n",
    "    set_ = set(array)    \n",
    "    n = 1\n",
    "    while n in set_:\n",
    "        n += 1\n",
    "        \n",
    "    return n \n",
    "            \n",
    "        \n",
    "\n",
    "\n",
    "    \n"
   ]
  },
  {
   "cell_type": "markdown",
   "metadata": {},
   "source": [
    "Good morning! Here's your coding interview problem for today.\n",
    "\n",
    "This problem was asked by Jane Street.\n",
    "\n",
    "cons(a, b) constructs a pair, and car(pair) and cdr(pair) returns the first and last element of that pair. For example, car(cons(3, 4)) returns 3, and cdr(cons(3, 4)) returns 4.\n",
    "\n",
    "Given this implementation of cons:\n",
    "\n",
    "def cons(a, b):\n",
    "    def pair(f):\n",
    "        return f(a, b)\n",
    "    return pair\n",
    "Implement car and cdr."
   ]
  },
  {
   "cell_type": "code",
   "execution_count": null,
   "metadata": {},
   "outputs": [],
   "source": [
    "def cons(a, b):\n",
    "    def pair(f):\n",
    "        return f(a, b)  \n",
    "\n",
    "    return pair\n",
    "\n",
    "def pair(f):\n",
    "        return f(a, b)"
   ]
  },
  {
   "cell_type": "code",
   "execution_count": null,
   "metadata": {},
   "outputs": [],
   "source": [
    "def car(f)-> int:\n",
    "     return f(lambda a, b: a)\n",
    "\n",
    "def cdr(f)-> int:\n",
    "    return f(lambda a, b: b)\n",
    "\n",
    "car(cons(3,4))"
   ]
  },
  {
   "cell_type": "code",
   "execution_count": null,
   "metadata": {},
   "outputs": [],
   "source": [
    "def func(x, y):\n",
    "    return x*y"
   ]
  },
  {
   "cell_type": "code",
   "execution_count": null,
   "metadata": {},
   "outputs": [],
   "source": [
    "a = 1\n",
    "b = 3\n",
    "def execute_operation(operation):\n",
    "        return operation(a, b)\n",
    "    \n",
    "def suma(a, b):\n",
    "    return a + b\n",
    "def multi(a,b):\n",
    "    return a*b"
   ]
  },
  {
   "cell_type": "code",
   "execution_count": null,
   "metadata": {},
   "outputs": [],
   "source": [
    "execute_operation(suma)"
   ]
  },
  {
   "cell_type": "code",
   "execution_count": null,
   "metadata": {},
   "outputs": [],
   "source": [
    "execute_operation(multi)"
   ]
  },
  {
   "cell_type": "code",
   "execution_count": null,
   "metadata": {},
   "outputs": [],
   "source": [
    "def car(f):\n",
    "    def pair(f):\n",
    "        return f(a, b) \n",
    "\n",
    "    return pair\n",
    "\n",
    "\n",
    "\n",
    "def car(pair):\n",
    "    def f(a,b):\n",
    "        return a\n",
    "    \n",
    "def first(a,b):\n",
    "    return a\n",
    "\n"
   ]
  },
  {
   "cell_type": "code",
   "execution_count": null,
   "metadata": {},
   "outputs": [],
   "source": [
    "cons(3,4)(first)"
   ]
  },
  {
   "cell_type": "code",
   "execution_count": null,
   "metadata": {},
   "outputs": [],
   "source": [
    "def car(pair):\n",
    "    A = lambda a,b: a\n",
    "    return pair(A)\n",
    "\n",
    "def cdr(pair):\n",
    "    B = lambda a,b: b\n",
    "    return pair(B)"
   ]
  },
  {
   "cell_type": "markdown",
   "metadata": {},
   "source": [
    "Good morning! Here's your coding interview problem for today.\n",
    "\n",
    "This problem was asked by Google.\n",
    "\n",
    "An XOR linked list is a more memory efficient doubly linked list. Instead of each node holding next and prev fields, it holds a field named both, which is an XOR of the next node and the previous node. Implement an XOR linked list; it has an add(element) which adds the element to the end, and a get(index) which returns the node at index.\n",
    "\n",
    "If using a language that has no pointers (such as Python), you can assume you have access to get_pointer and dereference_pointer functions that converts between nodes and memory addresses."
   ]
  },
  {
   "cell_type": "code",
   "execution_count": null,
   "metadata": {},
   "outputs": [],
   "source": []
  },
  {
   "cell_type": "markdown",
   "metadata": {},
   "source": [
    "Good morning! Here's your coding interview problem for today.\n",
    "\n",
    "This problem was asked by Facebook.\n",
    "\n",
    "Given the mapping a = 1, b = 2, ... z = 26, and an encoded message, count the number of ways it can be decoded.\n",
    "\n",
    "For example, the message '111' would give 3, since it could be decoded as 'aaa', 'ka', and 'ak'.\n",
    "\n",
    "You can assume that the messages are decodable. For example, '001' is not allowed."
   ]
  },
  {
   "cell_type": "code",
   "execution_count": 15,
   "metadata": {},
   "outputs": [],
   "source": [
    "def decode(code):\n",
    "    str_code = str(code) if type(code) == int else code\n",
    "    if len(str_code) ==1:\n",
    "        return 1\n",
    "    elif len(str_code)== 2:\n",
    "        return 2\n",
    "    else:\n",
    "        return decode(str_code[1:]) + decode(str_code[2:])\n",
    "  "
   ]
  },
  {
   "cell_type": "code",
   "execution_count": 18,
   "metadata": {},
   "outputs": [
    {
     "data": {
      "text/plain": [
       "13"
      ]
     },
     "execution_count": 18,
     "metadata": {},
     "output_type": "execute_result"
    }
   ],
   "source": [
    "decode(111111)"
   ]
  },
  {
   "cell_type": "markdown",
   "metadata": {},
   "source": [
    "Good morning! Here's your coding interview problem for today.\n",
    "\n",
    "This problem was asked by Google.\n",
    "\n",
    "A unival tree (which stands for \"universal value\") is a tree where all nodes under it have the same value.\n",
    "\n",
    "Given the root to a binary tree, count the number of unival subtrees.\n",
    "\n",
    "\n"
   ]
  },
  {
   "cell_type": "code",
   "execution_count": 83,
   "metadata": {},
   "outputs": [],
   "source": [
    "class Node(object):\n",
    "    \n",
    "    def __init__(self, val, left=None, right=None):\n",
    "        self.val = val\n",
    "        self.left = left\n",
    "        self.right = right\n",
    " \n",
    "        \n",
    "    def is_unival(self):\n",
    "        return self.left == None and self.right == None or self.left.val == self.right.val\n",
    "    # Careful, order is important as an empty node is not a type: Node but a type: NoneType, and thus does not possess a val attribute\n",
    "                \n",
    "    \n",
    "    def count_univals(self=None):\n",
    "        print(self.is_unival(), self.val)\n",
    "        \n",
    "        if self.val is None:\n",
    "            return 0                  \n",
    "        elif self.is_unival():\n",
    "            if self.left != None and self.right == None:\n",
    "                return 1 + self.left.count_univals() \n",
    "            elif self.left == None and self.right != None:\n",
    "                return 1 + self.right.count_univals()\n",
    "            elif self.left != None and self.right != None:\n",
    "                return 1 + self.left.count_univals() + self.right.count_univals()\n",
    "            else:\n",
    "                return 1            \n",
    "        else:\n",
    "            if self.left != None and self.right == None:\n",
    "                return 0 + self.left.count_univals() \n",
    "            elif self.left == None and self.right != None:\n",
    "                return 0 + self.right.count_univals()\n",
    "            elif self.left != None and self.right != None:\n",
    "                return 0 + self.left.count_univals() + self.right.count_univals()\n",
    "            else:\n",
    "                return 0    \n",
    "  "
   ]
  },
  {
   "cell_type": "code",
   "execution_count": 84,
   "metadata": {},
   "outputs": [],
   "source": [
    "a = Node(0)\n",
    "b = Node(1)\n",
    "c = Node(0)\n",
    "d = Node(1)\n",
    "e = Node(0)\n",
    "f = Node(1)\n",
    "g = Node(1)"
   ]
  },
  {
   "cell_type": "code",
   "execution_count": 85,
   "metadata": {},
   "outputs": [],
   "source": [
    "a.left = b\n",
    "a.right = c\n",
    "c.left = d\n",
    "c.right = e\n",
    "d.left = f\n",
    "d.right = g"
   ]
  },
  {
   "cell_type": "code",
   "execution_count": 86,
   "metadata": {},
   "outputs": [
    {
     "name": "stdout",
     "output_type": "stream",
     "text": [
      "False 0\n",
      "True 1\n",
      "False 0\n",
      "True 1\n",
      "True 1\n",
      "True 1\n",
      "True 0\n"
     ]
    },
    {
     "data": {
      "text/plain": [
       "5"
      ]
     },
     "execution_count": 86,
     "metadata": {},
     "output_type": "execute_result"
    }
   ],
   "source": [
    "a.count_univals()"
   ]
  },
  {
   "cell_type": "code",
   "execution_count": 87,
   "metadata": {},
   "outputs": [
    {
     "name": "stdout",
     "output_type": "stream",
     "text": [
      "True\n"
     ]
    }
   ],
   "source": [
    "print(d.is_unival())"
   ]
  },
  {
   "cell_type": "markdown",
   "metadata": {},
   "source": [
    "Good morning! Here's your coding interview problem for today.\n",
    "\n",
    "This problem was asked by Airbnb.\n",
    "\n",
    "Given a list of integers, write a function that returns the largest sum of non-adjacent numbers. Numbers can be 0 or negative.\n",
    "\n",
    "For example, [2, 4, 6, 2, 5] should return 13, since we pick 2, 6, and 5. [5, 1, 1, 5] should return 10, since we pick 5 and 5.\n",
    "\n",
    "Follow-up: Can you do this in O(N) time and constant space?"
   ]
  },
  {
   "cell_type": "code",
   "execution_count": 5,
   "metadata": {},
   "outputs": [],
   "source": [
    "from typing import List\n",
    "\n",
    "input_list = [2, 4, 6, 2, 5]\n",
    "\n",
    "def largest_sum(numbers: List) -> int:\n",
    "    inclusive = 0 #Max possible sum up to that point INCLUDING that number\n",
    "    exclusive = 0 #Max possible sum up to that point NOT including that number\n",
    "    for num in numbers:\n",
    "        ph = inclusive\n",
    "        inclusive = max(inclusive, exclusive + num) #this checks whether I prefer the current sum, or the previous sum + next num so no two adjacent numbers are ever summed\n",
    "        exclusive = ph\n",
    "    return inclusive\n",
    "\n",
    "#explanation found at: https://www.youtube.com/watch?v=UtGtF6nc35g\n",
    "        \n",
    "     \n",
    "    "
   ]
  },
  {
   "cell_type": "code",
   "execution_count": 4,
   "metadata": {},
   "outputs": [
    {
     "data": {
      "text/plain": [
       "13"
      ]
     },
     "execution_count": 4,
     "metadata": {},
     "output_type": "execute_result"
    }
   ],
   "source": [
    "largest_sum(input_list)"
   ]
  },
  {
   "cell_type": "markdown",
   "metadata": {},
   "source": [
    "This problem was asked by Apple.\n",
    "\n",
    "Implement a job scheduler which takes in a function f and an integer n, and calls f after n milliseconds."
   ]
  },
  {
   "cell_type": "code",
   "execution_count": 8,
   "metadata": {},
   "outputs": [
    {
     "name": "stdout",
     "output_type": "stream",
     "text": [
      "Uep! com va?\n"
     ]
    }
   ],
   "source": [
    "from time import sleep\n",
    "from types import FunctionType\n",
    "\n",
    "def test_function():\n",
    "    print('Uep! com va?')\n",
    "    \n",
    "def job_scheduler(func: FunctionType, delay_ms:float)-> FunctionType:\n",
    "    sleep(delay_ms/1000)\n",
    "    \n",
    "    return func()\n",
    "    \n",
    "job_scheduler(test_function, 100000)"
   ]
  },
  {
   "cell_type": "markdown",
   "metadata": {},
   "source": [
    "This problem was asked by Twitter.\n",
    "\n",
    "Implement an autocomplete system. That is, given a query string s and a set of all possible query strings, return all strings in the set that have s as a prefix.\n",
    "\n",
    "For example, given the query string de and the set of strings [dog, deer, deal], return [deer, deal].\n",
    "\n",
    "Hint: Try preprocessing the dictionary into a more efficient data structure to speed up queries."
   ]
  },
  {
   "cell_type": "code",
   "execution_count": 15,
   "metadata": {},
   "outputs": [],
   "source": [
    "import re\n",
    "\n",
    "def autocomplete(sub_query: str, set_words) -> str:\n",
    "    list_words = list(set_words)\n",
    "    out_set = []\n",
    "    for word in list_words:\n",
    "        \n",
    "        if re.match(sub_query, word) != None:\n",
    "            out_set.append(word)\n",
    "    return set(out_set)\n",
    "    \n",
    "test_str = 'de'\n",
    "test_list = ['dog', 'deer', 'deal']"
   ]
  },
  {
   "cell_type": "code",
   "execution_count": 16,
   "metadata": {},
   "outputs": [
    {
     "data": {
      "text/plain": [
       "{'deal', 'deer'}"
      ]
     },
     "execution_count": 16,
     "metadata": {},
     "output_type": "execute_result"
    }
   ],
   "source": [
    "autocomplete(test_str, test_list)"
   ]
  },
  {
   "cell_type": "markdown",
   "metadata": {},
   "source": [
    "This problem was asked by Amazon.\n",
    "\n",
    "There exists a staircase with N steps, and you can climb up either 1 or 2 steps at a time. Given N, write a function that returns the number of unique ways you can climb the staircase. The order of the steps matters.\n",
    "\n",
    "For example, if N is 4, then there are 5 unique ways:\n",
    "\n",
    "- 1, 1, 1, 1\n",
    "- 2, 1, 1\n",
    "- 1, 2, 1\n",
    "- 1, 1, 2\n",
    "- 2, 2\n",
    "\n",
    "What if, instead of being able to climb 1 or 2 steps at a time, you could climb any number from a set of positive integers X? For example, if X = {1, 3, 5}, you could climb 1, 3, or 5 steps at a time."
   ]
  },
  {
   "cell_type": "code",
   "execution_count": 35,
   "metadata": {},
   "outputs": [
    {
     "ename": "IndentationError",
     "evalue": "unexpected indent (<ipython-input-35-f31cfe991a6c>, line 40)",
     "output_type": "error",
     "traceback": [
      "\u001b[1;36m  File \u001b[1;32m\"<ipython-input-35-f31cfe991a6c>\"\u001b[1;36m, line \u001b[1;32m40\u001b[0m\n\u001b[1;33m    for x in X:\u001b[0m\n\u001b[1;37m    ^\u001b[0m\n\u001b[1;31mIndentationError\u001b[0m\u001b[1;31m:\u001b[0m unexpected indent\n"
     ]
    }
   ],
   "source": [
    "# with 1 or 2 steps\n",
    "def num_ways_r(n):\n",
    "    if n == 1 or n == 0:\n",
    "        return 1\n",
    "    if n == 2:\n",
    "        return 2\n",
    "    else:\n",
    "        return num_ways(n-2) + num_ways (n-1)\n",
    "    \n",
    "def num_ways_i(n):\n",
    "    a = 1 # Equivalent to base case of n being 0\n",
    "    b = 1 # Equivalent to base case of n being 1\n",
    "    for _ in range(n):\n",
    "        a, b = a+b, a\n",
    "    return b\n",
    "\n",
    "def num_ways_bottom_up(n):\n",
    "    if n == 0 or n== 1:\n",
    "        return 1\n",
    "    \n",
    "    nums = [0 for _ in range(n+1)]\n",
    "    print(nums)\n",
    "    nums[0], nums[1] = 1,1\n",
    "    \n",
    "    for i in range(2,n+1):\n",
    "        nums[i] = nums[i-1] + nums[i-2]\n",
    "    print(nums)\n",
    "        \n",
    "    return nums[n]\n",
    "\n",
    "def num_ways_bu_set(n, X):\n",
    "    if n == 0:\n",
    "        return 1\n",
    "    \n",
    "    nums = [0 for _ in range(n+1)]\n",
    "    nums[0] = 1\n",
    "    \n",
    "    for i in range(1,n+1):\n",
    "        total = 0\n",
    "        for x in X:\n",
    "            if x < n:\n",
    "                total += nums[i-x]\n",
    "        nums[i] = total\n",
    "    return nums[n]\n",
    "        \n",
    "\n",
    "\n",
    "    \n",
    "    "
   ]
  },
  {
   "cell_type": "code",
   "execution_count": 34,
   "metadata": {},
   "outputs": [
    {
     "name": "stdout",
     "output_type": "stream",
     "text": [
      "[0, 0, 0, 0, 0, 0, 0]\n",
      "[1, 1, 2, 3, 5, 8, 13]\n"
     ]
    },
    {
     "data": {
      "text/plain": [
       "13"
      ]
     },
     "execution_count": 34,
     "metadata": {},
     "output_type": "execute_result"
    }
   ],
   "source": [
    "num_ways_bottom_up(6)"
   ]
  },
  {
   "cell_type": "markdown",
   "metadata": {},
   "source": [
    "Good morning! Here's your coding interview problem for today.\n",
    "\n",
    "This problem was asked by Google.\n",
    "\n",
    "The area of a circle is defined as πr^2. Estimate π to 3 decimal places using a Monte Carlo method.\n",
    "\n",
    "Hint: The basic equation of a circle is x2 + y2 = r2."
   ]
  },
  {
   "cell_type": "code",
   "execution_count": 26,
   "metadata": {},
   "outputs": [],
   "source": [
    "import random\n",
    "from math import sqrt\n",
    "\n",
    "def what_is_pi(n):\n",
    "    in_out = {'in':0, 'out':0}\n",
    "    for i in range(n):\n",
    "        point = (random.random(), random.random())\n",
    "        if sqrt((point[0] - 0.5)**2 + (point[1] - 0.5)**2) <= 0.5:\n",
    "            in_out['in'] += 1\n",
    "        else:\n",
    "            in_out['out'] += 1\n",
    "    print(in_out['in']/(in_out['in'] + in_out['out']))\n",
    "            \n",
    "    return float('{:,.3f}'.format((in_out['in']/(in_out['in']+in_out['out']) * 4)))\n",
    "#float('{:,.3f}'.format((in_out['in']/in_out['in']+in_out['out']) * 4))"
   ]
  },
  {
   "cell_type": "code",
   "execution_count": 27,
   "metadata": {},
   "outputs": [
    {
     "name": "stdout",
     "output_type": "stream",
     "text": [
      "0.787\n"
     ]
    },
    {
     "data": {
      "text/plain": [
       "3.148"
      ]
     },
     "execution_count": 27,
     "metadata": {},
     "output_type": "execute_result"
    }
   ],
   "source": [
    "what_is_pi(1000)"
   ]
  },
  {
   "cell_type": "markdown",
   "metadata": {},
   "source": [
    "Good morning! Here's your coding interview problem for today.\n",
    "\n",
    "This problem was asked by Facebook.\n",
    "\n",
    "Given a stream of elements too large to store in memory, pick a random element from the stream with uniform probability."
   ]
  },
  {
   "cell_type": "code",
   "execution_count": 3,
   "metadata": {},
   "outputs": [],
   "source": [
    "import random\n",
    "\n",
    "def selector(stream):\n",
    "    \n",
    "    chosen_element = 0\n",
    "    \n",
    "    for i, elem in enumerate(stream):\n",
    "        if i == 0:\n",
    "            chosen_element = elem\n",
    "        elif random.randint(1, i+1) == 1:  #if I used random.randint (1,i), the element in the index 1 would have more probability of being chosen than the others\n",
    "            chosen_element = elem\n",
    "            \n",
    "    return chosen_element"
   ]
  },
  {
   "cell_type": "code",
   "execution_count": 2,
   "metadata": {},
   "outputs": [],
   "source": [
    "import random"
   ]
  },
  {
   "cell_type": "markdown",
   "metadata": {},
   "source": [
    "Good morning! Here's your coding interview problem for today.\n",
    "\n",
    "This problem was asked by Twitter.\n",
    "\n",
    "You run an e-commerce website and want to record the last N order ids in a log. Implement a data structure to accomplish this, with the following API:\n",
    "\n",
    "record(order_id): adds the order_id to the log\n",
    "get_last(i): gets the ith last element from the log. i is guaranteed to be smaller than or equal to N.\n",
    "You should be as efficient with time and space as possible."
   ]
  },
  {
   "cell_type": "code",
   "execution_count": null,
   "metadata": {},
   "outputs": [],
   "source": []
  }
 ],
 "metadata": {
  "kernelspec": {
   "display_name": "Python 3",
   "language": "python",
   "name": "python3"
  },
  "language_info": {
   "codemirror_mode": {
    "name": "ipython",
    "version": 3
   },
   "file_extension": ".py",
   "mimetype": "text/x-python",
   "name": "python",
   "nbconvert_exporter": "python",
   "pygments_lexer": "ipython3",
   "version": "3.7.6"
  }
 },
 "nbformat": 4,
 "nbformat_minor": 4
}
